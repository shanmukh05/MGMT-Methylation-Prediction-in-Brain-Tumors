{
 "cells": [
  {
   "attachments": {},
   "cell_type": "markdown",
   "metadata": {},
   "source": [
    "### Model Updation with MGMT"
   ]
  },
  {
   "cell_type": "code",
   "execution_count": 1,
   "metadata": {},
   "outputs": [
    {
     "name": "stderr",
     "output_type": "stream",
     "text": [
      "/data1/students/anaconda3/envs/students/lib/python3.8/site-packages/tqdm/auto.py:22: TqdmWarning: IProgress not found. Please update jupyter and ipywidgets. See https://ipywidgets.readthedocs.io/en/stable/user_install.html\n",
      "  from .autonotebook import tqdm as notebook_tqdm\n"
     ]
    }
   ],
   "source": [
    "from model import SwinUNETR"
   ]
  },
  {
   "cell_type": "code",
   "execution_count": null,
   "metadata": {},
   "outputs": [],
   "source": [
    "model = SwinUNETR(\n",
    "        img_size=(128, 128, 128),\n",
    "        in_channels=4,\n",
    "        out_channels=3,\n",
    "        feature_size=48,\n",
    "        use_checkpoint=False,\n",
    "    )"
   ]
  },
  {
   "attachments": {},
   "cell_type": "markdown",
   "metadata": {},
   "source": [
    "### Delete samples without MGMT Labels"
   ]
  },
  {
   "cell_type": "code",
   "execution_count": 30,
   "metadata": {},
   "outputs": [],
   "source": [
    "import os\n",
    "import shutil\n",
    "import json\n",
    "import pandas as pd\n",
    "import numpy as np"
   ]
  },
  {
   "cell_type": "code",
   "execution_count": 11,
   "metadata": {},
   "outputs": [],
   "source": [
    "df = pd.read_csv(\"./data/mgmt_labels.csv\")\n",
    "id_ls = list(df[\"BraTS21ID\"])\n",
    "\n",
    "path = \"./data/TrainingData/\"\n",
    "name_ls = os.listdir(path)\n",
    "\n",
    "for name in name_ls:\n",
    "    if \"json\" not in name:\n",
    "        id_ = int(name[-5:])\n",
    "        if id_ not in id_ls:\n",
    "            shutil.rmtree(os.path.join(path, name))"
   ]
  },
  {
   "attachments": {},
   "cell_type": "markdown",
   "metadata": {},
   "source": [
    "### Update Data split json"
   ]
  },
  {
   "cell_type": "code",
   "execution_count": 32,
   "metadata": {},
   "outputs": [],
   "source": [
    "with open(\"./data/TrainingData/brats21_folds.json\", \"r\") as f:\n",
    "    fold_dict = json.load(f)\n",
    "    \n",
    "count = 0\n",
    "new_ls = []\n",
    "for ls in fold_dict[\"training\"]:\n",
    "    id_ = int(ls[\"image\"][0].split(\"/\")[-1].split(\"_\")[1])\n",
    "    if id_ in id_ls:\n",
    "        new_ls.append(ls)\n",
    "        ls[\"mgmt_label\"] = int(df[df[\"BraTS21ID\"] == id_][\"MGMT_value\"].values[0])\n",
    "\n",
    "fold_dict[\"training\"] = new_ls"
   ]
  },
  {
   "cell_type": "code",
   "execution_count": 31,
   "metadata": {},
   "outputs": [],
   "source": [
    "class NpEncoder(json.JSONEncoder):\n",
    "    def default(self, obj):\n",
    "        if isinstance(obj, np.integer):\n",
    "            return int(obj)\n",
    "        if isinstance(obj, np.floating):\n",
    "            return float(obj)\n",
    "        if isinstance(obj, np.ndarray):\n",
    "            return obj.tolist()\n",
    "        return super(NpEncoder, self).default(obj)\n",
    "\n",
    "\n",
    "with open(\"./data/TrainingData/brats21_folds.json\", 'w') as fp:\n",
    "    json.dump(fold_dict, fp, cls=NpEncoder)"
   ]
  },
  {
   "attachments": {},
   "cell_type": "markdown",
   "metadata": {},
   "source": [
    "### Training Command"
   ]
  },
  {
   "cell_type": "code",
   "execution_count": null,
   "metadata": {},
   "outputs": [],
   "source": [
    "!python main.py --data_dir=\"./data\" --val_every=1 --roi_x=96 --roi_y=96 --roi_z=96  --in_channels=4 --spatial_dims=3 \\\n",
    "    --use_checkpoint --feature_size=12 --max_epochs 200 --save_checkpoint --distributed"
   ]
  },
  {
   "attachments": {},
   "cell_type": "markdown",
   "metadata": {},
   "source": [
    "### Make JSON file for Data split"
   ]
  },
  {
   "cell_type": "code",
   "execution_count": null,
   "metadata": {},
   "outputs": [],
   "source": [
    "import os\n",
    "import json"
   ]
  },
  {
   "cell_type": "code",
   "execution_count": 1,
   "metadata": {},
   "outputs": [
    {
     "data": {
      "text/plain": [
       "'/data1/students/sainath/SwinUNETR.zip'"
      ]
     },
     "execution_count": 1,
     "metadata": {},
     "output_type": "execute_result"
    }
   ],
   "source": [
    "import shutil\n",
    "\n",
    "shutil.make_archive(\"../SwinUNETR\", \"zip\", \"./\")"
   ]
  },
  {
   "cell_type": "code",
   "execution_count": 8,
   "metadata": {},
   "outputs": [
    {
     "data": {
      "text/plain": [
       "1.43603515625"
      ]
     },
     "execution_count": 8,
     "metadata": {},
     "output_type": "execute_result"
    }
   ],
   "source": [
    "import os\n",
    "os.path.getsize(\"../TestDataDICOM.zip\")/(1024*1024*1024)"
   ]
  },
  {
   "attachments": {},
   "cell_type": "markdown",
   "metadata": {},
   "source": [
    "## Unarchive Test Data"
   ]
  },
  {
   "cell_type": "code",
   "execution_count": 9,
   "metadata": {},
   "outputs": [],
   "source": [
    "import shutil\n",
    "\n",
    "shutil.unpack_archive(\"../TestDataDICOM.zip\", \"./data/TestDataDICOM\", \"zip\")"
   ]
  },
  {
   "cell_type": "code",
   "execution_count": null,
   "metadata": {},
   "outputs": [],
   "source": []
  },
  {
   "attachments": {},
   "cell_type": "markdown",
   "metadata": {},
   "source": [
    "## Test data JSON file"
   ]
  },
  {
   "cell_type": "code",
   "execution_count": 10,
   "metadata": {},
   "outputs": [],
   "source": [
    "import glob\n",
    "import os\n",
    "import json"
   ]
  },
  {
   "cell_type": "code",
   "execution_count": 11,
   "metadata": {},
   "outputs": [],
   "source": [
    "flair = [\"/\".join(i.split(\"/\")[-3:]) for i in glob.glob(\"./data/ValidationData/*/*flair*\")]\n",
    "t1 = [\"/\".join(i.split(\"/\")[-3:]) for i in glob.glob(\"./data/ValidationData/*/*t1.nii.gz\")]\n",
    "t1ce = [\"/\".join(i.split(\"/\")[-3:]) for i in glob.glob(\"./data/ValidationData/*/*t1ce*\")]\n",
    "t2 = [\"/\".join(i.split(\"/\")[-3:]) for i in glob.glob(\"./data/ValidationData/*/*t2*\")]\n",
    "ids = [i.split(\"/\")[-2].split(\"_\")[-1] for i in flair]\n",
    "\n",
    "clf_ids = os.listdir(\"./data/TestDataDICOM\")\n",
    "\n",
    "test_dict = {\"training\" : []}\n",
    "\n",
    "for i, id_ in enumerate(ids):\n",
    "    #if id_ in clf_ids\n",
    "        dict_ = {\n",
    "            \"fold\" : 1,\n",
    "            \"image\" : [\n",
    "                flair[i],\n",
    "                t1[i],\n",
    "                t1ce[i],\n",
    "                t2[i]\n",
    "            ],\n",
    "            \"id\" : id_\n",
    "        }\n",
    "        test_dict[\"training\"].append(dict_)"
   ]
  },
  {
   "cell_type": "code",
   "execution_count": 12,
   "metadata": {},
   "outputs": [],
   "source": [
    "class NpEncoder(json.JSONEncoder):\n",
    "    def default(self, obj):\n",
    "        if isinstance(obj, np.integer):\n",
    "            return int(obj)\n",
    "        if isinstance(obj, np.floating):\n",
    "            return float(obj)\n",
    "        if isinstance(obj, np.ndarray):\n",
    "            return obj.tolist()\n",
    "        return super(NpEncoder, self).default(obj)\n",
    "\n",
    "\n",
    "with open(\"./jsons/val_data.json\", 'w') as fp:\n",
    "    json.dump(test_dict, fp, cls=NpEncoder)"
   ]
  },
  {
   "attachments": {},
   "cell_type": "markdown",
   "metadata": {},
   "source": [
    "## Inference"
   ]
  },
  {
   "cell_type": "code",
   "execution_count": null,
   "metadata": {},
   "outputs": [],
   "source": [
    "# https://github.com/Project-MONAI/tutorials/blob/main/modules/load_medical_images.ipynb"
   ]
  },
  {
   "cell_type": "code",
   "execution_count": null,
   "metadata": {},
   "outputs": [],
   "source": [
    "!python test.py --data_dir ./data --json_list ./jsons/metadata.json --feature_size 12 --roi_x=96 --roi_y=96 --roi_z=96 --pretrained_dir ./runs/alpha_0.9_enc3"
   ]
  },
  {
   "attachments": {},
   "cell_type": "markdown",
   "metadata": {},
   "source": [
    "## Get submission file"
   ]
  },
  {
   "cell_type": "code",
   "execution_count": null,
   "metadata": {},
   "outputs": [],
   "source": [
    "import glob\n",
    "import os\n",
    "import numpy as np\n",
    "import pandas as pd"
   ]
  },
  {
   "cell_type": "code",
   "execution_count": null,
   "metadata": {},
   "outputs": [],
   "source": [
    "output_dir = \"./runs/test\"\n",
    "path_ls = glob.glob(f\"{output_dir}/outputs/*.npy\")\n",
    "sub_df = pd.read_csv(\"./data/sample_submission.csv\")\n",
    "\n",
    "for path in path_ls:\n",
    "    pred = np.load(path)\n",
    "    id_ = path.split(\"/\")[-1].split(\"_\")[0]\n",
    "    pred = [1 if pred>0.5 else 0]\n",
    "    sub_df[sub_df[\"BraTS21ID\"] == id_][\"MGMT_value\"] = pred\n",
    "\n",
    "sub_df.to_csv(f\"{output_dir}/submission.csv\")\n",
    "sub_df.head()"
   ]
  },
  {
   "attachments": {},
   "cell_type": "markdown",
   "metadata": {},
   "source": [
    "## Compare Seg and Classification data Validation IDs"
   ]
  },
  {
   "cell_type": "code",
   "execution_count": 2,
   "metadata": {},
   "outputs": [
    {
     "data": {
      "text/plain": [
       "86"
      ]
     },
     "execution_count": 2,
     "metadata": {},
     "output_type": "execute_result"
    }
   ],
   "source": [
    "import os\n",
    "\n",
    "clf_ids = os.listdir(\"./data/TestDataDICOM\")\n",
    "seg_ids = [i.split(\"_\")[-1] for i in os.listdir(\"./data/ValidationData\")]\n",
    "count = 0\n",
    "\n",
    "for id_ in seg_ids:\n",
    "    if id_ in clf_ids:\n",
    "        count += 1\n",
    "\n",
    "count"
   ]
  },
  {
   "attachments": {},
   "cell_type": "markdown",
   "metadata": {},
   "source": [
    "## Final Data Split"
   ]
  },
  {
   "cell_type": "code",
   "execution_count": null,
   "metadata": {},
   "outputs": [],
   "source": [
    "#######################\n",
    "### Total: 577\n",
    "### Training: 450\n",
    "### Validation: 50\n",
    "### Test: 77\n",
    "#######################\n",
    "\n",
    "'''\n",
    "{\n",
    "    \"training\": [\n",
    "        {\n",
    "            \"fold\": 0,\n",
    "            \"image\": [\n",
    "                \"TrainingData/BraTS2021_00483/BraTS2021_00483_flair.nii.gz\",\n",
    "                \"TrainingData/BraTS2021_00483/BraTS2021_00483_t1ce.nii.gz\",\n",
    "                \"TrainingData/BraTS2021_00483/BraTS2021_00483_t1.nii.gz\",\n",
    "                \"TrainingData/BraTS2021_00483/BraTS2021_00483_t2.nii.gz\"\n",
    "            ],\n",
    "            \"label\": \"TrainingData/BraTS2021_00483/BraTS2021_00483_seg.nii.gz\",\n",
    "            \"mgmt_label\": 1\n",
    "        },\n",
    "        ...\n",
    "\n",
    "}\n",
    "'''"
   ]
  },
  {
   "cell_type": "code",
   "execution_count": 1,
   "metadata": {},
   "outputs": [],
   "source": [
    "import os\n",
    "import json\n",
    "import glob\n",
    "\n",
    "import numpy as np\n",
    "import pandas as pd\n",
    "\n",
    "from sklearn.model_selection import StratifiedKFold"
   ]
  },
  {
   "cell_type": "code",
   "execution_count": 2,
   "metadata": {},
   "outputs": [],
   "source": [
    "class NpEncoder(json.JSONEncoder):\n",
    "    def default(self, obj):\n",
    "        if isinstance(obj, np.integer):\n",
    "            return int(obj)\n",
    "        if isinstance(obj, np.floating):\n",
    "            return float(obj)\n",
    "        if isinstance(obj, np.ndarray):\n",
    "            return obj.tolist()\n",
    "        return super(NpEncoder, self).default(obj)"
   ]
  },
  {
   "cell_type": "code",
   "execution_count": 12,
   "metadata": {},
   "outputs": [
    {
     "data": {
      "text/html": [
       "<div>\n",
       "<style scoped>\n",
       "    .dataframe tbody tr th:only-of-type {\n",
       "        vertical-align: middle;\n",
       "    }\n",
       "\n",
       "    .dataframe tbody tr th {\n",
       "        vertical-align: top;\n",
       "    }\n",
       "\n",
       "    .dataframe thead th {\n",
       "        text-align: right;\n",
       "    }\n",
       "</style>\n",
       "<table border=\"1\" class=\"dataframe\">\n",
       "  <thead>\n",
       "    <tr style=\"text-align: right;\">\n",
       "      <th></th>\n",
       "      <th>BraTS21ID</th>\n",
       "      <th>MGMT_value</th>\n",
       "      <th>t1</th>\n",
       "      <th>t1ce</th>\n",
       "      <th>t2</th>\n",
       "      <th>flair</th>\n",
       "      <th>seg</th>\n",
       "      <th>fold</th>\n",
       "    </tr>\n",
       "  </thead>\n",
       "  <tbody>\n",
       "    <tr>\n",
       "      <th>0</th>\n",
       "      <td>0</td>\n",
       "      <td>1</td>\n",
       "      <td>TrainingData/BraTS2021_00000/BraTS2021_00000_t...</td>\n",
       "      <td>TrainingData/BraTS2021_00000/BraTS2021_00000_t...</td>\n",
       "      <td>TrainingData/BraTS2021_00000/BraTS2021_00000_t...</td>\n",
       "      <td>TrainingData/BraTS2021_00000/BraTS2021_00000_f...</td>\n",
       "      <td>TrainingData/BraTS2021_00000/BraTS2021_00000_s...</td>\n",
       "      <td>0</td>\n",
       "    </tr>\n",
       "    <tr>\n",
       "      <th>1</th>\n",
       "      <td>2</td>\n",
       "      <td>1</td>\n",
       "      <td>TrainingData/BraTS2021_00002/BraTS2021_00002_t...</td>\n",
       "      <td>TrainingData/BraTS2021_00002/BraTS2021_00002_t...</td>\n",
       "      <td>TrainingData/BraTS2021_00002/BraTS2021_00002_t...</td>\n",
       "      <td>TrainingData/BraTS2021_00002/BraTS2021_00002_f...</td>\n",
       "      <td>TrainingData/BraTS2021_00002/BraTS2021_00002_s...</td>\n",
       "      <td>0</td>\n",
       "    </tr>\n",
       "    <tr>\n",
       "      <th>2</th>\n",
       "      <td>3</td>\n",
       "      <td>0</td>\n",
       "      <td>TrainingData/BraTS2021_00003/BraTS2021_00003_t...</td>\n",
       "      <td>TrainingData/BraTS2021_00003/BraTS2021_00003_t...</td>\n",
       "      <td>TrainingData/BraTS2021_00003/BraTS2021_00003_t...</td>\n",
       "      <td>TrainingData/BraTS2021_00003/BraTS2021_00003_f...</td>\n",
       "      <td>TrainingData/BraTS2021_00003/BraTS2021_00003_s...</td>\n",
       "      <td>0</td>\n",
       "    </tr>\n",
       "    <tr>\n",
       "      <th>3</th>\n",
       "      <td>5</td>\n",
       "      <td>1</td>\n",
       "      <td>TrainingData/BraTS2021_00005/BraTS2021_00005_t...</td>\n",
       "      <td>TrainingData/BraTS2021_00005/BraTS2021_00005_t...</td>\n",
       "      <td>TrainingData/BraTS2021_00005/BraTS2021_00005_t...</td>\n",
       "      <td>TrainingData/BraTS2021_00005/BraTS2021_00005_f...</td>\n",
       "      <td>TrainingData/BraTS2021_00005/BraTS2021_00005_s...</td>\n",
       "      <td>0</td>\n",
       "    </tr>\n",
       "    <tr>\n",
       "      <th>4</th>\n",
       "      <td>6</td>\n",
       "      <td>1</td>\n",
       "      <td>TrainingData/BraTS2021_00006/BraTS2021_00006_t...</td>\n",
       "      <td>TrainingData/BraTS2021_00006/BraTS2021_00006_t...</td>\n",
       "      <td>TrainingData/BraTS2021_00006/BraTS2021_00006_t...</td>\n",
       "      <td>TrainingData/BraTS2021_00006/BraTS2021_00006_f...</td>\n",
       "      <td>TrainingData/BraTS2021_00006/BraTS2021_00006_s...</td>\n",
       "      <td>0</td>\n",
       "    </tr>\n",
       "  </tbody>\n",
       "</table>\n",
       "</div>"
      ],
      "text/plain": [
       "   BraTS21ID  MGMT_value                                                 t1  \\\n",
       "0          0           1  TrainingData/BraTS2021_00000/BraTS2021_00000_t...   \n",
       "1          2           1  TrainingData/BraTS2021_00002/BraTS2021_00002_t...   \n",
       "2          3           0  TrainingData/BraTS2021_00003/BraTS2021_00003_t...   \n",
       "3          5           1  TrainingData/BraTS2021_00005/BraTS2021_00005_t...   \n",
       "4          6           1  TrainingData/BraTS2021_00006/BraTS2021_00006_t...   \n",
       "\n",
       "                                                t1ce  \\\n",
       "0  TrainingData/BraTS2021_00000/BraTS2021_00000_t...   \n",
       "1  TrainingData/BraTS2021_00002/BraTS2021_00002_t...   \n",
       "2  TrainingData/BraTS2021_00003/BraTS2021_00003_t...   \n",
       "3  TrainingData/BraTS2021_00005/BraTS2021_00005_t...   \n",
       "4  TrainingData/BraTS2021_00006/BraTS2021_00006_t...   \n",
       "\n",
       "                                                  t2  \\\n",
       "0  TrainingData/BraTS2021_00000/BraTS2021_00000_t...   \n",
       "1  TrainingData/BraTS2021_00002/BraTS2021_00002_t...   \n",
       "2  TrainingData/BraTS2021_00003/BraTS2021_00003_t...   \n",
       "3  TrainingData/BraTS2021_00005/BraTS2021_00005_t...   \n",
       "4  TrainingData/BraTS2021_00006/BraTS2021_00006_t...   \n",
       "\n",
       "                                               flair  \\\n",
       "0  TrainingData/BraTS2021_00000/BraTS2021_00000_f...   \n",
       "1  TrainingData/BraTS2021_00002/BraTS2021_00002_f...   \n",
       "2  TrainingData/BraTS2021_00003/BraTS2021_00003_f...   \n",
       "3  TrainingData/BraTS2021_00005/BraTS2021_00005_f...   \n",
       "4  TrainingData/BraTS2021_00006/BraTS2021_00006_f...   \n",
       "\n",
       "                                                 seg  fold  \n",
       "0  TrainingData/BraTS2021_00000/BraTS2021_00000_s...     0  \n",
       "1  TrainingData/BraTS2021_00002/BraTS2021_00002_s...     0  \n",
       "2  TrainingData/BraTS2021_00003/BraTS2021_00003_s...     0  \n",
       "3  TrainingData/BraTS2021_00005/BraTS2021_00005_s...     0  \n",
       "4  TrainingData/BraTS2021_00006/BraTS2021_00006_s...     0  "
      ]
     },
     "execution_count": 12,
     "metadata": {},
     "output_type": "execute_result"
    }
   ],
   "source": [
    "mgmt_df = pd.read_csv(\"../data/mgmt_labels.csv\")\n",
    "path_df = pd.DataFrame.from_dict({\n",
    "    \"BraTS21ID\" : [int(i.split(\"/\")[-2].split(\"_\")[1]) for i in glob.glob(f\"../data/TrainingData/*/*_seg*\")],\n",
    "    \"t1\" : [i[8:] for i in glob.glob(f\"../data/TrainingData/*/*_t1.nii*\")],\n",
    "    \"t1ce\" : [i[8:] for i in glob.glob(f\"../data/TrainingData/*/*_t1ce*\")],\n",
    "    \"t2\" : [i[8:] for i in glob.glob(f\"../data/TrainingData/*/*_t2*\")],\n",
    "    \"flair\" : [i[8:] for i in glob.glob(f\"../data/TrainingData/*/*_flair*\")],\n",
    "    \"seg\" : [i[8:] for i in glob.glob(f\"../data/TrainingData/*/*_seg*\")]\n",
    "})\n",
    "\n",
    "df = pd.merge(mgmt_df, path_df, on=\"BraTS21ID\")\n",
    "\n",
    "rand_ids = np.random.permutation(np.arange(len(df)))\n",
    "train_df = df #df.iloc[rand_ids[:-77]]\n",
    "test_df = df.iloc[rand_ids[-77:]]\n",
    "\n",
    "skf = StratifiedKFold(n_splits=10)\n",
    "skf.get_n_splits(train_df, train_df[\"MGMT_value\"])\n",
    "ids, folds = [], []\n",
    "\n",
    "for i, (train_index, test_index) in enumerate(skf.split(train_df, train_df[\"MGMT_value\"])):\n",
    "    ids.extend(list(train_df.iloc[test_index][\"BraTS21ID\"]))\n",
    "    folds.extend([i]*len(test_index))\n",
    "    \n",
    "fold_df = pd.DataFrame.from_dict({\n",
    "    \"BraTS21ID\" : ids,\n",
    "    \"fold\" : folds\n",
    "})\n",
    "train_df = pd.merge(train_df, fold_df, on=\"BraTS21ID\")\n",
    "train_df.head()"
   ]
  },
  {
   "cell_type": "code",
   "execution_count": 13,
   "metadata": {},
   "outputs": [],
   "source": [
    "json_dict = {\"training\" : []}\n",
    "\n",
    "for i in train_df.values:\n",
    "    dict_ = {\n",
    "        \"fold\" : 1, #i[-1]\n",
    "        \"image\" : list(i[2:6]),\n",
    "        \"label\" : i[-2],\n",
    "        \"mgmt_label\" : i[1],\n",
    "        \"id\" : i[-2].split(\"/\")[-2].split(\"_\")[1]\n",
    "    }\n",
    "    json_dict[\"training\"].append(dict_)\n",
    "\n",
    "with open(\"../jsons/metadata.json\", 'w') as fp:\n",
    "    json.dump(json_dict, fp, cls=NpEncoder)"
   ]
  },
  {
   "cell_type": "code",
   "execution_count": 7,
   "metadata": {},
   "outputs": [],
   "source": [
    "json_dict = {\"training\" : []}\n",
    "\n",
    "for i in test_df.values:\n",
    "    dict_ = {\n",
    "        \"fold\" : 1,\n",
    "        \"image\" : list(i[2:6]),\n",
    "        \"label\" : i[-1],\n",
    "        \"mgmt_label\" : i[1],\n",
    "        \"id\" : i[-1].split(\"/\")[-2].split(\"_\")[1]\n",
    "    }\n",
    "    json_dict[\"training\"].append(dict_)\n",
    "\n",
    "with open(\"./jsons/test_metadata.json\", 'w') as fp:\n",
    "    json.dump(json_dict, fp, cls=NpEncoder)"
   ]
  },
  {
   "attachments": {},
   "cell_type": "markdown",
   "metadata": {},
   "source": [
    "### Feature Vector check"
   ]
  },
  {
   "cell_type": "code",
   "execution_count": 2,
   "metadata": {},
   "outputs": [
    {
     "data": {
      "text/plain": [
       "(1, 96)"
      ]
     },
     "execution_count": 2,
     "metadata": {},
     "output_type": "execute_result"
    }
   ],
   "source": [
    "import numpy as np\n",
    "\n",
    "arr = np.load(\"../runs/alpha_0.1/outputs/00000.npy\")\n",
    "arr.shape"
   ]
  },
  {
   "attachments": {},
   "cell_type": "markdown",
   "metadata": {},
   "source": [
    "### Zip folder except dataset and output"
   ]
  },
  {
   "cell_type": "code",
   "execution_count": 1,
   "metadata": {},
   "outputs": [],
   "source": [
    "import zipfile\n",
    "import os"
   ]
  },
  {
   "cell_type": "code",
   "execution_count": 2,
   "metadata": {},
   "outputs": [],
   "source": [
    "zf = zipfile.ZipFile(\"../../source_code.zip\", \"w\")\n",
    "\n",
    "for dirname, subdirs, files in os.walk(\"../\"):\n",
    "    if 'exclude directory' in [\"data\", \"runs\"]:\n",
    "        subdirs.remove('exclude directory')\n",
    "    zf.write(dirname)\n",
    "    for filename in files:\n",
    "        zf.write(os.path.join(dirname, filename))\n",
    "zf.close()"
   ]
  },
  {
   "cell_type": "code",
   "execution_count": 5,
   "metadata": {},
   "outputs": [
    {
     "data": {
      "text/plain": [
       "6.651053890585899"
      ]
     },
     "execution_count": 5,
     "metadata": {},
     "output_type": "execute_result"
    }
   ],
   "source": [
    "os.path.getsize(\"../../source_code.zip\")/(1024*1024*1024)"
   ]
  },
  {
   "cell_type": "code",
   "execution_count": null,
   "metadata": {},
   "outputs": [],
   "source": []
  }
 ],
 "metadata": {
  "kernelspec": {
   "display_name": "students",
   "language": "python",
   "name": "python3"
  },
  "language_info": {
   "codemirror_mode": {
    "name": "ipython",
    "version": 3
   },
   "file_extension": ".py",
   "mimetype": "text/x-python",
   "name": "python",
   "nbconvert_exporter": "python",
   "pygments_lexer": "ipython3",
   "version": "3.8.13"
  },
  "orig_nbformat": 4,
  "vscode": {
   "interpreter": {
    "hash": "2f53c89872192b2217e60a8cef47547378c2f953175b8f1c334d2a9c4729e7b7"
   }
  }
 },
 "nbformat": 4,
 "nbformat_minor": 2
}
