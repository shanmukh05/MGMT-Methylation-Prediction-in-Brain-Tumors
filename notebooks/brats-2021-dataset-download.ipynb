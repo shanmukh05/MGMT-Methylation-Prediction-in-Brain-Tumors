{
 "cells": [
  {
   "cell_type": "code",
   "execution_count": 1,
   "id": "8d905a12",
   "metadata": {
    "execution": {
     "iopub.execute_input": "2022-10-20T14:05:46.068678Z",
     "iopub.status.busy": "2022-10-20T14:05:46.067599Z",
     "iopub.status.idle": "2022-10-20T14:06:01.419047Z",
     "shell.execute_reply": "2022-10-20T14:06:01.417668Z"
    },
    "papermill": {
     "duration": 15.359543,
     "end_time": "2022-10-20T14:06:01.422058",
     "exception": false,
     "start_time": "2022-10-20T14:05:46.062515",
     "status": "completed"
    },
    "scrolled": true,
    "tags": []
   },
   "outputs": [
    {
     "name": "stdout",
     "output_type": "stream",
     "text": [
      "Collecting synapseclient\n",
      "  Using cached synapseclient-2.7.0-py3-none-any.whl (217 kB)\n",
      "Collecting keyrings.alt==3.1\n",
      "  Using cached keyrings.alt-3.1-py2.py3-none-any.whl (21 kB)\n",
      "Collecting keyring<23.5,>=15\n",
      "  Using cached keyring-23.4.1-py3-none-any.whl (33 kB)\n",
      "Collecting deprecated<2.0,>=1.2.4\n",
      "  Using cached Deprecated-1.2.13-py2.py3-none-any.whl (9.6 kB)\n",
      "Requirement already satisfied: requests<3.0,>=2.22.0 in /data1/students/anaconda3/envs/students/lib/python3.8/site-packages (from synapseclient) (2.28.1)\n",
      "Requirement already satisfied: six in /data1/students/anaconda3/envs/students/lib/python3.8/site-packages (from keyrings.alt==3.1->synapseclient) (1.16.0)\n",
      "Collecting wrapt<2,>=1.10\n",
      "  Downloading wrapt-1.15.0-cp38-cp38-manylinux_2_5_x86_64.manylinux1_x86_64.manylinux_2_17_x86_64.manylinux2014_x86_64.whl (81 kB)\n",
      "\u001b[2K     \u001b[90m━━━━━━━━━━━━━━━━━━━━━━━━━━━━━━━━━━━━━━━\u001b[0m \u001b[32m81.5/81.5 kB\u001b[0m \u001b[31m441.4 kB/s\u001b[0m eta \u001b[36m0:00:00\u001b[0m \u001b[36m0:00:01\u001b[0m\n",
      "\u001b[?25hCollecting SecretStorage>=3.2\n",
      "  Using cached SecretStorage-3.3.3-py3-none-any.whl (15 kB)\n",
      "Requirement already satisfied: importlib-metadata>=3.6 in /data1/students/anaconda3/envs/students/lib/python3.8/site-packages (from keyring<23.5,>=15->synapseclient) (6.0.0)\n",
      "Collecting jeepney>=0.4.2\n",
      "  Using cached jeepney-0.8.0-py3-none-any.whl (48 kB)\n",
      "Requirement already satisfied: idna<4,>=2.5 in /data1/students/anaconda3/envs/students/lib/python3.8/site-packages (from requests<3.0,>=2.22.0->synapseclient) (3.4)\n",
      "Requirement already satisfied: urllib3<1.27,>=1.21.1 in /data1/students/anaconda3/envs/students/lib/python3.8/site-packages (from requests<3.0,>=2.22.0->synapseclient) (1.26.14)\n",
      "Requirement already satisfied: certifi>=2017.4.17 in /data1/students/anaconda3/envs/students/lib/python3.8/site-packages (from requests<3.0,>=2.22.0->synapseclient) (2022.12.7)\n",
      "Requirement already satisfied: charset-normalizer<3,>=2 in /data1/students/anaconda3/envs/students/lib/python3.8/site-packages (from requests<3.0,>=2.22.0->synapseclient) (2.0.4)\n",
      "Requirement already satisfied: zipp>=0.5 in /data1/students/anaconda3/envs/students/lib/python3.8/site-packages (from importlib-metadata>=3.6->keyring<23.5,>=15->synapseclient) (3.15.0)\n",
      "Requirement already satisfied: cryptography>=2.0 in /data1/students/anaconda3/envs/students/lib/python3.8/site-packages (from SecretStorage>=3.2->keyring<23.5,>=15->synapseclient) (38.0.4)\n",
      "Requirement already satisfied: cffi>=1.12 in /data1/students/anaconda3/envs/students/lib/python3.8/site-packages (from cryptography>=2.0->SecretStorage>=3.2->keyring<23.5,>=15->synapseclient) (1.15.0)\n",
      "Requirement already satisfied: pycparser in /data1/students/anaconda3/envs/students/lib/python3.8/site-packages (from cffi>=1.12->cryptography>=2.0->SecretStorage>=3.2->keyring<23.5,>=15->synapseclient) (2.21)\n",
      "Installing collected packages: wrapt, keyrings.alt, jeepney, deprecated, SecretStorage, keyring, synapseclient\n",
      "Successfully installed SecretStorage-3.3.3 deprecated-1.2.13 jeepney-0.8.0 keyring-23.4.1 keyrings.alt-3.1 synapseclient-2.7.0 wrapt-1.15.0\n"
     ]
    }
   ],
   "source": [
    "!pip3 install --upgrade synapseclient"
   ]
  },
  {
   "cell_type": "code",
   "execution_count": 2,
   "id": "106e1bd9",
   "metadata": {
    "execution": {
     "iopub.execute_input": "2022-10-20T14:06:01.432030Z",
     "iopub.status.busy": "2022-10-20T14:06:01.431618Z",
     "iopub.status.idle": "2022-10-20T14:06:01.556218Z",
     "shell.execute_reply": "2022-10-20T14:06:01.555121Z"
    },
    "papermill": {
     "duration": 0.132871,
     "end_time": "2022-10-20T14:06:01.558866",
     "exception": false,
     "start_time": "2022-10-20T14:06:01.425995",
     "status": "completed"
    },
    "tags": []
   },
   "outputs": [],
   "source": [
    "import shutil\n",
    "\n",
    "import synapseclient \n",
    "import synapseutils "
   ]
  },
  {
   "cell_type": "code",
   "execution_count": 8,
   "id": "8faf6b2e",
   "metadata": {
    "execution": {
     "iopub.execute_input": "2022-10-20T14:06:01.568812Z",
     "iopub.status.busy": "2022-10-20T14:06:01.567681Z",
     "iopub.status.idle": "2022-10-20T14:06:40.392085Z",
     "shell.execute_reply": "2022-10-20T14:06:40.390805Z"
    },
    "papermill": {
     "duration": 38.835338,
     "end_time": "2022-10-20T14:06:40.397954",
     "exception": false,
     "start_time": "2022-10-20T14:06:01.562616",
     "status": "completed"
    },
    "tags": []
   },
   "outputs": [
    {
     "name": "stderr",
     "output_type": "stream",
     "text": [
      "Exception in version check: ('Connection aborted.', ConnectionResetError(104, 'Connection reset by peer'))\n"
     ]
    },
    {
     "name": "stdout",
     "output_type": "stream",
     "text": [
      "Welcome, shanmukh05!\n",
      "\n"
     ]
    },
    {
     "data": {
      "text/plain": [
       "'./ValidationData.zip'"
      ]
     },
     "execution_count": 8,
     "metadata": {},
     "output_type": "execute_result"
    }
   ],
   "source": [
    "secret_value_0 = \"Shanmukhasainath\"\n",
    " \n",
    "syn = synapseclient.Synapse() \n",
    "syn.login('shanmukh05',secret_value_0) \n",
    "\n",
    " # Obtain a pointer and download the data \n",
    "syn26017056 = syn.get(entity='syn26017056' ) \n",
    " \n",
    " # Get the path to the local copy of the data file \n",
    "filepath = syn26017056.path\n",
    "\n",
    "\n",
    "shutil.copyfile(filepath,\"./ValidationData.zip\")"
   ]
  },
  {
   "cell_type": "code",
   "execution_count": 16,
   "id": "fb26da55",
   "metadata": {
    "execution": {
     "iopub.execute_input": "2022-10-20T14:06:40.407226Z",
     "iopub.status.busy": "2022-10-20T14:06:40.406812Z",
     "iopub.status.idle": "2022-10-20T14:11:56.110623Z",
     "shell.execute_reply": "2022-10-20T14:11:56.109209Z"
    },
    "papermill": {
     "duration": 315.770274,
     "end_time": "2022-10-20T14:11:56.171953",
     "exception": false,
     "start_time": "2022-10-20T14:06:40.401679",
     "status": "completed"
    },
    "tags": []
   },
   "outputs": [
    {
     "data": {
      "text/plain": [
       "'./TrainingData.zip'"
      ]
     },
     "execution_count": 16,
     "metadata": {},
     "output_type": "execute_result"
    }
   ],
   "source": [
    "# Obtain a pointer and download the data \n",
    "syn25956772 = syn.get(entity='syn25956772' ) \n",
    " \n",
    "# Get the path to the local copy of the data file \n",
    "filepath = syn25956772.path \n",
    "\n",
    "shutil.copyfile(filepath,\"./TrainingData.zip\")"
   ]
  },
  {
   "cell_type": "code",
   "execution_count": 14,
   "id": "9abd6d82",
   "metadata": {
    "papermill": {
     "duration": 0.008639,
     "end_time": "2022-10-20T14:11:56.230612",
     "exception": false,
     "start_time": "2022-10-20T14:11:56.221973",
     "status": "completed"
    },
    "tags": []
   },
   "outputs": [],
   "source": [
    "import os\n",
    "import tarfile\n",
    "import zipfile\n",
    "os.makedirs(\"./data\", exist_ok=True)"
   ]
  },
  {
   "cell_type": "code",
   "execution_count": 15,
   "id": "3aaa84cf",
   "metadata": {},
   "outputs": [],
   "source": [
    "with zipfile.ZipFile(\"./ValidationData.zip\", 'r') as zip_ref:\n",
    "    zip_ref.extractall(\"./data\")"
   ]
  },
  {
   "cell_type": "code",
   "execution_count": 17,
   "id": "c04e6688",
   "metadata": {},
   "outputs": [],
   "source": [
    "with zipfile.ZipFile(\"./TrainingData.zip\", 'r') as zip_ref:\n",
    "    zip_ref.extractall(\"./data\")"
   ]
  },
  {
   "cell_type": "code",
   "execution_count": 18,
   "id": "3b41e6f2",
   "metadata": {},
   "outputs": [],
   "source": [
    "os.remove(\"./ValidationData.zip\")\n",
    "os.remove(\"./TrainingData.zip\")"
   ]
  },
  {
   "cell_type": "code",
   "execution_count": null,
   "id": "c07b1c4c",
   "metadata": {},
   "outputs": [],
   "source": [
    "#kaggle kernels output shanmukh05/brats-2021-nnunet-training-and-inference-btp -p ./data"
   ]
  },
  {
   "cell_type": "code",
   "execution_count": 35,
   "id": "9d05e610",
   "metadata": {},
   "outputs": [
    {
     "data": {
      "text/plain": [
       "499"
      ]
     },
     "execution_count": 35,
     "metadata": {},
     "output_type": "execute_result"
    }
   ],
   "source": [
    "len(os.listdir(\"../data/BraTS2021_train/images\"))"
   ]
  },
  {
   "cell_type": "code",
   "execution_count": 76,
   "id": "62455c50",
   "metadata": {},
   "outputs": [],
   "source": [
    "shutil.unpack_archive(\"./results.zip\", \"./\")"
   ]
  },
  {
   "cell_type": "code",
   "execution_count": null,
   "id": "a2dc6c2c",
   "metadata": {},
   "outputs": [],
   "source": []
  }
 ],
 "metadata": {
  "kernelspec": {
   "display_name": "students",
   "language": "python",
   "name": "python3"
  },
  "language_info": {
   "codemirror_mode": {
    "name": "ipython",
    "version": 3
   },
   "file_extension": ".py",
   "mimetype": "text/x-python",
   "name": "python",
   "nbconvert_exporter": "python",
   "pygments_lexer": "ipython3",
   "version": "3.8.13"
  },
  "papermill": {
   "default_parameters": {},
   "duration": 382.202644,
   "end_time": "2022-10-20T14:11:57.725553",
   "environment_variables": {},
   "exception": null,
   "input_path": "__notebook__.ipynb",
   "output_path": "__notebook__.ipynb",
   "parameters": {},
   "start_time": "2022-10-20T14:05:35.522909",
   "version": "2.3.4"
  },
  "vscode": {
   "interpreter": {
    "hash": "ddfb43cd4c142f35627483180d03495027b04376222463ee2182abfddf925c7a"
   }
  }
 },
 "nbformat": 4,
 "nbformat_minor": 5
}
