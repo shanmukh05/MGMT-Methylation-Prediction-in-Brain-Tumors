{
 "cells": [
  {
   "cell_type": "code",
   "execution_count": 1,
   "id": "3a14f2d4",
   "metadata": {
    "_cell_guid": "b1076dfc-b9ad-4769-8c92-a6c4dae69d19",
    "_kg_hide-output": true,
    "_uuid": "8f2839f25d086af736a60e9eeb907d3b93b6e0e5",
    "execution": {
     "iopub.execute_input": "2022-10-25T06:43:29.498971Z",
     "iopub.status.busy": "2022-10-25T06:43:29.497973Z",
     "iopub.status.idle": "2022-10-25T06:44:19.733716Z",
     "shell.execute_reply": "2022-10-25T06:44:19.732000Z"
    },
    "papermill": {
     "duration": 50.250231,
     "end_time": "2022-10-25T06:44:19.736894",
     "exception": false,
     "start_time": "2022-10-25T06:43:29.486663",
     "status": "completed"
    },
    "scrolled": true,
    "tags": []
   },
   "outputs": [
    {
     "name": "stdout",
     "output_type": "stream",
     "text": [
      "Requirement already satisfied: nibabel in /opt/conda/lib/python3.7/site-packages (4.0.1)\r\n",
      "Requirement already satisfied: setuptools in /opt/conda/lib/python3.7/site-packages (from nibabel) (59.8.0)\r\n",
      "Requirement already satisfied: numpy>=1.17 in /opt/conda/lib/python3.7/site-packages (from nibabel) (1.21.6)\r\n",
      "Requirement already satisfied: packaging>=17.0 in /opt/conda/lib/python3.7/site-packages (from nibabel) (21.3)\r\n",
      "Requirement already satisfied: pyparsing!=3.0.5,>=2.0.2 in /opt/conda/lib/python3.7/site-packages (from packaging>=17.0->nibabel) (3.0.9)\r\n",
      "\u001b[33mWARNING: Running pip as the 'root' user can result in broken permissions and conflicting behaviour with the system package manager. It is recommended to use a virtual environment instead: https://pip.pypa.io/warnings/venv\u001b[0m\u001b[33m\r\n",
      "\u001b[0mRequirement already satisfied: nilearn in /opt/conda/lib/python3.7/site-packages (0.9.1)\r\n",
      "Collecting nilearn\r\n",
      "  Downloading nilearn-0.9.2-py3-none-any.whl (9.6 MB)\r\n",
      "\u001b[2K     \u001b[90m━━━━━━━━━━━━━━━━━━━━━━━━━━━━━━━━━━━━━━━━\u001b[0m \u001b[32m9.6/9.6 MB\u001b[0m \u001b[31m12.7 MB/s\u001b[0m eta \u001b[36m0:00:00\u001b[0m\r\n",
      "\u001b[?25hRequirement already satisfied: numpy>=1.18 in /opt/conda/lib/python3.7/site-packages (from nilearn) (1.21.6)\r\n",
      "Requirement already satisfied: requests>=2 in /opt/conda/lib/python3.7/site-packages (from nilearn) (2.28.1)\r\n",
      "Requirement already satisfied: lxml in /opt/conda/lib/python3.7/site-packages (from nilearn) (4.9.1)\r\n",
      "Requirement already satisfied: scikit-learn>=0.22 in /opt/conda/lib/python3.7/site-packages (from nilearn) (1.0.2)\r\n",
      "Requirement already satisfied: pandas>=1.0 in /opt/conda/lib/python3.7/site-packages (from nilearn) (1.3.5)\r\n",
      "Requirement already satisfied: joblib>=0.15 in /opt/conda/lib/python3.7/site-packages (from nilearn) (1.0.1)\r\n",
      "Requirement already satisfied: nibabel>=3.0.0 in /opt/conda/lib/python3.7/site-packages (from nilearn) (4.0.1)\r\n",
      "Requirement already satisfied: scipy>=1.5 in /opt/conda/lib/python3.7/site-packages (from nilearn) (1.7.3)\r\n",
      "Requirement already satisfied: setuptools in /opt/conda/lib/python3.7/site-packages (from nibabel>=3.0.0->nilearn) (59.8.0)\r\n",
      "Requirement already satisfied: packaging>=17.0 in /opt/conda/lib/python3.7/site-packages (from nibabel>=3.0.0->nilearn) (21.3)\r\n",
      "Requirement already satisfied: python-dateutil>=2.7.3 in /opt/conda/lib/python3.7/site-packages (from pandas>=1.0->nilearn) (2.8.2)\r\n",
      "Requirement already satisfied: pytz>=2017.3 in /opt/conda/lib/python3.7/site-packages (from pandas>=1.0->nilearn) (2022.1)\r\n",
      "Requirement already satisfied: certifi>=2017.4.17 in /opt/conda/lib/python3.7/site-packages (from requests>=2->nilearn) (2022.6.15)\r\n",
      "Requirement already satisfied: idna<4,>=2.5 in /opt/conda/lib/python3.7/site-packages (from requests>=2->nilearn) (3.3)\r\n",
      "Requirement already satisfied: urllib3<1.27,>=1.21.1 in /opt/conda/lib/python3.7/site-packages (from requests>=2->nilearn) (1.26.11)\r\n",
      "Requirement already satisfied: charset-normalizer<3,>=2 in /opt/conda/lib/python3.7/site-packages (from requests>=2->nilearn) (2.1.0)\r\n",
      "Requirement already satisfied: threadpoolctl>=2.0.0 in /opt/conda/lib/python3.7/site-packages (from scikit-learn>=0.22->nilearn) (3.1.0)\r\n",
      "Requirement already satisfied: pyparsing!=3.0.5,>=2.0.2 in /opt/conda/lib/python3.7/site-packages (from packaging>=17.0->nibabel>=3.0.0->nilearn) (3.0.9)\r\n",
      "Requirement already satisfied: six>=1.5 in /opt/conda/lib/python3.7/site-packages (from python-dateutil>=2.7.3->pandas>=1.0->nilearn) (1.15.0)\r\n",
      "Installing collected packages: nilearn\r\n",
      "Successfully installed nilearn-0.9.2\r\n",
      "\u001b[33mWARNING: Running pip as the 'root' user can result in broken permissions and conflicting behaviour with the system package manager. It is recommended to use a virtual environment instead: https://pip.pypa.io/warnings/venv\u001b[0m\u001b[33m\r\n",
      "\u001b[0mCollecting pyradiomics\r\n",
      "  Downloading pyradiomics-3.0.1-cp37-cp37m-manylinux1_x86_64.whl (188 kB)\r\n",
      "\u001b[2K     \u001b[90m━━━━━━━━━━━━━━━━━━━━━━━━━━━━━━━━━━━━━\u001b[0m \u001b[32m188.3/188.3 kB\u001b[0m \u001b[31m896.5 kB/s\u001b[0m eta \u001b[36m0:00:00\u001b[0m\r\n",
      "\u001b[?25hRequirement already satisfied: PyWavelets>=0.4.0 in /opt/conda/lib/python3.7/site-packages (from pyradiomics) (1.3.0)\r\n",
      "Requirement already satisfied: six>=1.10.0 in /opt/conda/lib/python3.7/site-packages (from pyradiomics) (1.15.0)\r\n",
      "Requirement already satisfied: numpy>=1.9.2 in /opt/conda/lib/python3.7/site-packages (from pyradiomics) (1.21.6)\r\n",
      "Requirement already satisfied: SimpleITK>=0.9.1 in /opt/conda/lib/python3.7/site-packages (from pyradiomics) (2.1.1.2)\r\n",
      "Collecting pykwalify>=1.6.0\r\n",
      "  Downloading pykwalify-1.8.0-py2.py3-none-any.whl (24 kB)\r\n",
      "Collecting ruamel.yaml>=0.16.0\r\n",
      "  Downloading ruamel.yaml-0.17.21-py3-none-any.whl (109 kB)\r\n",
      "\u001b[2K     \u001b[90m━━━━━━━━━━━━━━━━━━━━━━━━━━━━━━━━━━━━━━━\u001b[0m \u001b[32m109.5/109.5 kB\u001b[0m \u001b[31m3.7 MB/s\u001b[0m eta \u001b[36m0:00:00\u001b[0m\r\n",
      "\u001b[?25hRequirement already satisfied: docopt>=0.6.2 in /opt/conda/lib/python3.7/site-packages (from pykwalify>=1.6.0->pyradiomics) (0.6.2)\r\n",
      "Requirement already satisfied: python-dateutil>=2.8.0 in /opt/conda/lib/python3.7/site-packages (from pykwalify>=1.6.0->pyradiomics) (2.8.2)\r\n",
      "Collecting ruamel.yaml.clib>=0.2.6\r\n",
      "  Downloading ruamel.yaml.clib-0.2.7-cp37-cp37m-manylinux_2_17_x86_64.manylinux2014_x86_64.manylinux_2_24_x86_64.whl (500 kB)\r\n",
      "\u001b[2K     \u001b[90m━━━━━━━━━━━━━━━━━━━━━━━━━━━━━━━━━━━━━━━\u001b[0m \u001b[32m500.1/500.1 kB\u001b[0m \u001b[31m3.9 MB/s\u001b[0m eta \u001b[36m0:00:00\u001b[0m\r\n",
      "\u001b[?25hInstalling collected packages: ruamel.yaml.clib, ruamel.yaml, pykwalify, pyradiomics\r\n",
      "Successfully installed pykwalify-1.8.0 pyradiomics-3.0.1 ruamel.yaml-0.17.21 ruamel.yaml.clib-0.2.7\r\n",
      "\u001b[33mWARNING: Running pip as the 'root' user can result in broken permissions and conflicting behaviour with the system package manager. It is recommended to use a virtual environment instead: https://pip.pypa.io/warnings/venv\u001b[0m\u001b[33m\r\n",
      "\u001b[0mRequirement already satisfied: SimpleITK in /opt/conda/lib/python3.7/site-packages (2.1.1.2)\r\n",
      "\u001b[33mWARNING: Running pip as the 'root' user can result in broken permissions and conflicting behaviour with the system package manager. It is recommended to use a virtual environment instead: https://pip.pypa.io/warnings/venv\u001b[0m\u001b[33m\r\n",
      "\u001b[0m"
     ]
    }
   ],
   "source": [
    "!pip install nibabel\n",
    "!pip install -U --user nilearn\n",
    "!python -m pip install pyradiomics\n",
    "!pip install SimpleITK   "
   ]
  },
  {
   "cell_type": "code",
   "execution_count": 2,
   "id": "c9709ebf",
   "metadata": {
    "execution": {
     "iopub.execute_input": "2022-10-25T06:44:19.758430Z",
     "iopub.status.busy": "2022-10-25T06:44:19.757529Z",
     "iopub.status.idle": "2022-10-25T06:44:25.557118Z",
     "shell.execute_reply": "2022-10-25T06:44:25.555877Z"
    },
    "papermill": {
     "duration": 5.813199,
     "end_time": "2022-10-25T06:44:25.559881",
     "exception": false,
     "start_time": "2022-10-25T06:44:19.746682",
     "status": "completed"
    },
    "tags": []
   },
   "outputs": [
    {
     "data": {
      "text/html": [
       "<style type='text/css'>\n",
       ".datatable table.frame { margin-bottom: 0; }\n",
       ".datatable table.frame thead { border-bottom: none; }\n",
       ".datatable table.frame tr.coltypes td {  color: #FFFFFF;  line-height: 6px;  padding: 0 0.5em;}\n",
       ".datatable .bool    { background: #DDDD99; }\n",
       ".datatable .object  { background: #565656; }\n",
       ".datatable .int     { background: #5D9E5D; }\n",
       ".datatable .float   { background: #4040CC; }\n",
       ".datatable .str     { background: #CC4040; }\n",
       ".datatable .time    { background: #40CC40; }\n",
       ".datatable .row_index {  background: var(--jp-border-color3);  border-right: 1px solid var(--jp-border-color0);  color: var(--jp-ui-font-color3);  font-size: 9px;}\n",
       ".datatable .frame tbody td { text-align: left; }\n",
       ".datatable .frame tr.coltypes .row_index {  background: var(--jp-border-color0);}\n",
       ".datatable th:nth-child(2) { padding-left: 12px; }\n",
       ".datatable .hellipsis {  color: var(--jp-cell-editor-border-color);}\n",
       ".datatable .vellipsis {  background: var(--jp-layout-color0);  color: var(--jp-cell-editor-border-color);}\n",
       ".datatable .na {  color: var(--jp-cell-editor-border-color);  font-size: 80%;}\n",
       ".datatable .sp {  opacity: 0.25;}\n",
       ".datatable .footer { font-size: 9px; }\n",
       ".datatable .frame_dimensions {  background: var(--jp-border-color3);  border-top: 1px solid var(--jp-border-color0);  color: var(--jp-ui-font-color3);  display: inline-block;  opacity: 0.6;  padding: 1px 10px 1px 5px;}\n",
       "</style>\n"
      ],
      "text/plain": [
       "<IPython.core.display.HTML object>"
      ]
     },
     "metadata": {},
     "output_type": "display_data"
    }
   ],
   "source": [
    "import os\n",
    "import shutil\n",
    "import tarfile\n",
    "from itertools import chain\n",
    "from collections import defaultdict\n",
    "from tqdm import tqdm\n",
    "\n",
    "import numpy as np\n",
    "import pandas as pd\n",
    "\n",
    "import matplotlib.pyplot as plt\n",
    "%matplotlib inline\n",
    "import seaborn as sns\n",
    "sns.set()\n",
    "import plotly\n",
    "import plotly.graph_objects as go\n",
    "\n",
    "import nibabel as nib\n",
    "from nilearn import image, plotting\n",
    "import SimpleITK as sitk\n",
    "from SimpleITK import GetImageFromArray\n",
    "import radiomics\n",
    "from radiomics.featureextractor import RadiomicsFeatureExtractor\n",
    "\n",
    "import warnings\n",
    "warnings.filterwarnings('ignore')\n",
    "\n",
    "import albumentations as A\n",
    "\n",
    "from sklearn.preprocessing import OneHotEncoder, LabelEncoder,MinMaxScaler,StandardScaler\n",
    "from sklearn.model_selection import StratifiedKFold, KFold, train_test_split\n",
    "from sklearn.utils import class_weight\n",
    "from sklearn.metrics import roc_auc_score\n",
    "\n",
    "from catboost import Pool, CatBoostClassifier\n",
    "from lightgbm import LGBMClassifier\n",
    "from xgboost import XGBClassifier\n",
    "import lightgbm as lgb\n",
    "import xgboost as xgb\n",
    "\n",
    "import logging\n",
    "logger = logging.getLogger(\"radiomics\")\n",
    "logger.setLevel(logging.ERROR)\n",
    "\n",
    "import pickle\n",
    "import json"
   ]
  },
  {
   "cell_type": "markdown",
   "id": "e9add201",
   "metadata": {
    "papermill": {
     "duration": 0.008863,
     "end_time": "2022-10-25T06:44:25.578504",
     "exception": false,
     "start_time": "2022-10-25T06:44:25.569641",
     "status": "completed"
    },
    "tags": []
   },
   "source": [
    "## Extracting Data"
   ]
  },
  {
   "cell_type": "code",
   "execution_count": 3,
   "id": "7ab06894",
   "metadata": {
    "execution": {
     "iopub.execute_input": "2022-10-25T06:44:25.598119Z",
     "iopub.status.busy": "2022-10-25T06:44:25.597667Z",
     "iopub.status.idle": "2022-10-25T06:46:16.891827Z",
     "shell.execute_reply": "2022-10-25T06:46:16.890273Z"
    },
    "papermill": {
     "duration": 111.307953,
     "end_time": "2022-10-25T06:46:16.895339",
     "exception": false,
     "start_time": "2022-10-25T06:44:25.587386",
     "status": "completed"
    },
    "tags": []
   },
   "outputs": [
    {
     "name": "stdout",
     "output_type": "stream",
     "text": [
      "... Extracting Main Task1 Training Files (3-5 Minutes) ...\n",
      "\n"
     ]
    }
   ],
   "source": [
    "train_df = pd.read_csv(\"../input/rsna-miccai-brain-tumor-radiogenomic-classification/train_labels.csv\")\n",
    "data_path = \"/kaggle/working/data\"\n",
    "\n",
    "# Create Data Directory\n",
    "if not os.path.isdir(\"/kaggle/working/data\"):\n",
    "    os.makedirs(\"/kaggle/working/data\", exist_ok=True)\n",
    "\n",
    "# # Extract Update\n",
    "# print(\"\\n... Extracting BraTSID=00495 Task1 Update Files ...\")\n",
    "# tar = tarfile.open(\"/kaggle/input/brats-2021-task1/BraTS2021_00495.tar\")\n",
    "# tar.extractall(\"/kaggle/working/data\")\n",
    "# tar.close()\n",
    "\n",
    "# # Extract Update\n",
    "# print(\"... Extracting BraTSID=00621 Task1 Update Files ...\")\n",
    "# tar = tarfile.open(\"/kaggle/input/brats-2021-task1/BraTS2021_00621.tar\")\n",
    "# tar.extractall(\"/kaggle/working/data\")\n",
    "# tar.close()\n",
    "\n",
    "# Extract Main Training Data\n",
    "print(\"... Extracting Main Task1 Training Files (3-5 Minutes) ...\\n\")\n",
    "tar = tarfile.open(\"/kaggle/input/brats-2021-task1/BraTS2021_Training_Data.tar\")\n",
    "tar.extractall(\"/kaggle/working/data\")\n",
    "tar.close()\n",
    "\n",
    "os.remove('./data/.DS_Store')"
   ]
  },
  {
   "cell_type": "markdown",
   "id": "ef3ea72c",
   "metadata": {
    "papermill": {
     "duration": 0.009355,
     "end_time": "2022-10-25T06:46:16.914832",
     "exception": false,
     "start_time": "2022-10-25T06:46:16.905477",
     "status": "completed"
    },
    "tags": []
   },
   "source": [
    "## Inititalization"
   ]
  },
  {
   "cell_type": "code",
   "execution_count": 4,
   "id": "2665d2d7",
   "metadata": {
    "execution": {
     "iopub.execute_input": "2022-10-25T06:46:16.937356Z",
     "iopub.status.busy": "2022-10-25T06:46:16.936463Z",
     "iopub.status.idle": "2022-10-25T06:46:16.953437Z",
     "shell.execute_reply": "2022-10-25T06:46:16.952123Z"
    },
    "papermill": {
     "duration": 0.030656,
     "end_time": "2022-10-25T06:46:16.956261",
     "exception": false,
     "start_time": "2022-10-25T06:46:16.925605",
     "status": "completed"
    },
    "tags": []
   },
   "outputs": [],
   "source": [
    "rm_ls = [1024, 1026, 611, 1028, 1034, 12, 1552, 1041, 18, 19, 1044, 532, 1558, 17, 1560, 1048, 1562, 1561, 538, 1053, 1565, 1567, 31, 1569, 28, 540, 1572, 1573, 1062, 1061, 551, 1577, 1578, 1066, 1579, 1065, 1070, 45, 1584, 561, 49, 1588, 1076, 52, 1591, 567, 1593, 1594, 570, 1595, 1084, 1597, 1087, 576, 1088, 578, 1600, 580, 575, 582, 583, 1605, 1089, 74, 68, 1101, 1102, 1104, 1617, 1618, 1619, 1106, 1616, 1110, 1111, 1624, 89, 602, 85, 1116, 604, 601, 1631, 607, 1633, 1122, 1635, 1636, 1637, 101, 1639, 612, 1641, 99, 613, 618, 621, 622, 1647, 620, 1138, 1651, 1652, 1653, 118, 1654, 1656, 630, 1658, 628, 1660, 631, 1152, 640, 1666, 1154, 1155, 645, 646, 1153, 649, 1162, 652, 654, 655, 657, 659, 661, 1177, 1178, 1179, 1180, 668, 1182, 1186, 1188, 1189, 677, 679, 1192, 1195, 171, 1198, 693, 694, 185, 186, 703, 192, 705, 1219, 707, 709, 199, 1225, 715, 206, 207, 212, 214, 728, 218, 734, 737, 228, 740, 742, 242, 757, 759, 250, 765, 1279, 772, 1287, 778, 53, 269, 270, 271, 791, 281, 793, 1308, 797, 286, 1311, 1313, 1314, 803, 804, 805, 1319, 59, 1322, 811, 1324, 1326, 304, 305, 1330, 61, 1339, 63, 1342, 834, 325, 838, 1351, 1360, 1361, 1362, 339, 1085, 1365, 1366, 344, 1369, 1370, 1368, 350, 351, 1376, 1377, 352, 1380, 1381, 1383, 1388, 1391, 1400, 378, 382, 1413, 1414, 1415, 1416, 1418, 1419, 1421, 1422, 1424, 1426, 1427, 1428, 1429, 1430, 1431, 1432, 1434, 1437, 1438, 418, 432, 444, 1469, 456, 528, 488, 1001, 493, 495, 498, 1013, 1015, 504, 1017, 1021, 511]"
   ]
  },
  {
   "cell_type": "code",
   "execution_count": 5,
   "id": "483e41ad",
   "metadata": {
    "execution": {
     "iopub.execute_input": "2022-10-25T06:46:16.977244Z",
     "iopub.status.busy": "2022-10-25T06:46:16.976807Z",
     "iopub.status.idle": "2022-10-25T06:46:17.051715Z",
     "shell.execute_reply": "2022-10-25T06:46:17.050403Z"
    },
    "papermill": {
     "duration": 0.088497,
     "end_time": "2022-10-25T06:46:17.054244",
     "exception": false,
     "start_time": "2022-10-25T06:46:16.965747",
     "status": "completed"
    },
    "tags": []
   },
   "outputs": [
    {
     "data": {
      "text/html": [
       "<div>\n",
       "<style scoped>\n",
       "    .dataframe tbody tr th:only-of-type {\n",
       "        vertical-align: middle;\n",
       "    }\n",
       "\n",
       "    .dataframe tbody tr th {\n",
       "        vertical-align: top;\n",
       "    }\n",
       "\n",
       "    .dataframe thead th {\n",
       "        text-align: right;\n",
       "    }\n",
       "</style>\n",
       "<table border=\"1\" class=\"dataframe\">\n",
       "  <thead>\n",
       "    <tr style=\"text-align: right;\">\n",
       "      <th></th>\n",
       "      <th>BraTS21ID</th>\n",
       "      <th>t1</th>\n",
       "      <th>t1ce</th>\n",
       "      <th>t2</th>\n",
       "      <th>flair</th>\n",
       "      <th>seg</th>\n",
       "    </tr>\n",
       "    <tr>\n",
       "      <th>id</th>\n",
       "      <th></th>\n",
       "      <th></th>\n",
       "      <th></th>\n",
       "      <th></th>\n",
       "      <th></th>\n",
       "      <th></th>\n",
       "    </tr>\n",
       "  </thead>\n",
       "  <tbody>\n",
       "    <tr>\n",
       "      <th>658</th>\n",
       "      <td>658</td>\n",
       "      <td>./data/BraTS2021_00658/BraTS2021_00658_t1.nii.gz</td>\n",
       "      <td>./data/BraTS2021_00658/BraTS2021_00658_t1ce.ni...</td>\n",
       "      <td>./data/BraTS2021_00658/BraTS2021_00658_t2.nii.gz</td>\n",
       "      <td>./data/BraTS2021_00658/BraTS2021_00658_flair.n...</td>\n",
       "      <td>./data/BraTS2021_00658/BraTS2021_00658_seg.nii.gz</td>\n",
       "    </tr>\n",
       "    <tr>\n",
       "      <th>620</th>\n",
       "      <td>620</td>\n",
       "      <td>./data/BraTS2021_00620/BraTS2021_00620_t1.nii.gz</td>\n",
       "      <td>./data/BraTS2021_00620/BraTS2021_00620_t1ce.ni...</td>\n",
       "      <td>./data/BraTS2021_00620/BraTS2021_00620_t2.nii.gz</td>\n",
       "      <td>./data/BraTS2021_00620/BraTS2021_00620_flair.n...</td>\n",
       "      <td>./data/BraTS2021_00620/BraTS2021_00620_seg.nii.gz</td>\n",
       "    </tr>\n",
       "    <tr>\n",
       "      <th>1293</th>\n",
       "      <td>1293</td>\n",
       "      <td>./data/BraTS2021_01293/BraTS2021_01293_t1.nii.gz</td>\n",
       "      <td>./data/BraTS2021_01293/BraTS2021_01293_t1ce.ni...</td>\n",
       "      <td>./data/BraTS2021_01293/BraTS2021_01293_t2.nii.gz</td>\n",
       "      <td>./data/BraTS2021_01293/BraTS2021_01293_flair.n...</td>\n",
       "      <td>./data/BraTS2021_01293/BraTS2021_01293_seg.nii.gz</td>\n",
       "    </tr>\n",
       "    <tr>\n",
       "      <th>583</th>\n",
       "      <td>583</td>\n",
       "      <td>./data/BraTS2021_00583/BraTS2021_00583_t1.nii.gz</td>\n",
       "      <td>./data/BraTS2021_00583/BraTS2021_00583_t1ce.ni...</td>\n",
       "      <td>./data/BraTS2021_00583/BraTS2021_00583_t2.nii.gz</td>\n",
       "      <td>./data/BraTS2021_00583/BraTS2021_00583_flair.n...</td>\n",
       "      <td>./data/BraTS2021_00583/BraTS2021_00583_seg.nii.gz</td>\n",
       "    </tr>\n",
       "    <tr>\n",
       "      <th>1414</th>\n",
       "      <td>1414</td>\n",
       "      <td>./data/BraTS2021_01414/BraTS2021_01414_t1.nii.gz</td>\n",
       "      <td>./data/BraTS2021_01414/BraTS2021_01414_t1ce.ni...</td>\n",
       "      <td>./data/BraTS2021_01414/BraTS2021_01414_t2.nii.gz</td>\n",
       "      <td>./data/BraTS2021_01414/BraTS2021_01414_flair.n...</td>\n",
       "      <td>./data/BraTS2021_01414/BraTS2021_01414_seg.nii.gz</td>\n",
       "    </tr>\n",
       "  </tbody>\n",
       "</table>\n",
       "</div>"
      ],
      "text/plain": [
       "      BraTS21ID                                                t1  \\\n",
       "id                                                                  \n",
       "658         658  ./data/BraTS2021_00658/BraTS2021_00658_t1.nii.gz   \n",
       "620         620  ./data/BraTS2021_00620/BraTS2021_00620_t1.nii.gz   \n",
       "1293       1293  ./data/BraTS2021_01293/BraTS2021_01293_t1.nii.gz   \n",
       "583         583  ./data/BraTS2021_00583/BraTS2021_00583_t1.nii.gz   \n",
       "1414       1414  ./data/BraTS2021_01414/BraTS2021_01414_t1.nii.gz   \n",
       "\n",
       "                                                   t1ce  \\\n",
       "id                                                        \n",
       "658   ./data/BraTS2021_00658/BraTS2021_00658_t1ce.ni...   \n",
       "620   ./data/BraTS2021_00620/BraTS2021_00620_t1ce.ni...   \n",
       "1293  ./data/BraTS2021_01293/BraTS2021_01293_t1ce.ni...   \n",
       "583   ./data/BraTS2021_00583/BraTS2021_00583_t1ce.ni...   \n",
       "1414  ./data/BraTS2021_01414/BraTS2021_01414_t1ce.ni...   \n",
       "\n",
       "                                                    t2  \\\n",
       "id                                                       \n",
       "658   ./data/BraTS2021_00658/BraTS2021_00658_t2.nii.gz   \n",
       "620   ./data/BraTS2021_00620/BraTS2021_00620_t2.nii.gz   \n",
       "1293  ./data/BraTS2021_01293/BraTS2021_01293_t2.nii.gz   \n",
       "583   ./data/BraTS2021_00583/BraTS2021_00583_t2.nii.gz   \n",
       "1414  ./data/BraTS2021_01414/BraTS2021_01414_t2.nii.gz   \n",
       "\n",
       "                                                  flair  \\\n",
       "id                                                        \n",
       "658   ./data/BraTS2021_00658/BraTS2021_00658_flair.n...   \n",
       "620   ./data/BraTS2021_00620/BraTS2021_00620_flair.n...   \n",
       "1293  ./data/BraTS2021_01293/BraTS2021_01293_flair.n...   \n",
       "583   ./data/BraTS2021_00583/BraTS2021_00583_flair.n...   \n",
       "1414  ./data/BraTS2021_01414/BraTS2021_01414_flair.n...   \n",
       "\n",
       "                                                    seg  \n",
       "id                                                       \n",
       "658   ./data/BraTS2021_00658/BraTS2021_00658_seg.nii.gz  \n",
       "620   ./data/BraTS2021_00620/BraTS2021_00620_seg.nii.gz  \n",
       "1293  ./data/BraTS2021_01293/BraTS2021_01293_seg.nii.gz  \n",
       "583   ./data/BraTS2021_00583/BraTS2021_00583_seg.nii.gz  \n",
       "1414  ./data/BraTS2021_01414/BraTS2021_01414_seg.nii.gz  "
      ]
     },
     "execution_count": 5,
     "metadata": {},
     "output_type": "execute_result"
    }
   ],
   "source": [
    "################\n",
    "## Training Data\n",
    "################\n",
    "\n",
    "train_path =  \"./data\" #\"../input/brats-2021-training-data-extracted/data\" #\"./data\"\n",
    "train_names = os.listdir(train_path)\n",
    "\n",
    "id = -1\n",
    "\n",
    "train_t1 = [os.path.join(os.path.join(train_path,f), f+\"_t1.nii.gz\") for f in os.listdir(train_path)]#[:id]\n",
    "train_t1ce = [os.path.join(os.path.join(train_path,f), f+\"_t1ce.nii.gz\") for f in os.listdir(train_path)]#[:id]\n",
    "train_t2 = [os.path.join(os.path.join(train_path,f), f+\"_t2.nii.gz\") for f in os.listdir(train_path)]#[:id]\n",
    "train_flair = [os.path.join(os.path.join(train_path,f), f+\"_flair.nii.gz\") for f in os.listdir(train_path)]#[:id]\n",
    "train_seg = [os.path.join(os.path.join(train_path,f), f+\"_seg.nii.gz\") for f in os.listdir(train_path)]#[:id]\n",
    "\n",
    "id_ls = [int(i.split(\"/\")[-2].split(\"_\")[-1]) for i in train_t1]\n",
    "\n",
    "# train_t1 = [os.path.join(i,os.listdir(i)[0]) for c,i in enumerate(train_t1) if id_ls[c] not in rm_ls]\n",
    "# train_t1ce = [os.path.join(i,os.listdir(i)[0]) for c,i in enumerate(train_t1ce) if id_ls[c] not in rm_ls]\n",
    "# train_t2 = [os.path.join(i,os.listdir(i)[0]) for c,i in enumerate(train_t2) if id_ls[c] not in rm_ls]\n",
    "# train_flair = [os.path.join(i,os.listdir(i)[0]) for c,i in enumerate(train_flair) if id_ls[c] not in rm_ls]\n",
    "# train_seg = [os.path.join(i,os.listdir(i)[0]) for c,i in enumerate(train_seg) if id_ls[c] not in rm_ls]\n",
    "\n",
    "# new_id_ls = [i for i in id_ls if i not in rm_ls]\n",
    "train_df = pd.DataFrame.from_dict({\n",
    "    \"id\" : id_ls,\n",
    "    \"BraTS21ID\" : id_ls,\n",
    "    \"t1\" : train_t1,\n",
    "    \"t1ce\" : train_t1ce,\n",
    "    \"t2\" : train_t2,\n",
    "    \"flair\" : train_flair,\n",
    "    \"seg\" : train_seg\n",
    "})\n",
    "train_df.set_index(\"id\", inplace=True)\n",
    "train_df.head()"
   ]
  },
  {
   "cell_type": "code",
   "execution_count": 6,
   "id": "123cd73e",
   "metadata": {
    "execution": {
     "iopub.execute_input": "2022-10-25T06:46:17.078739Z",
     "iopub.status.busy": "2022-10-25T06:46:17.078347Z",
     "iopub.status.idle": "2022-10-25T06:46:17.083962Z",
     "shell.execute_reply": "2022-10-25T06:46:17.082600Z"
    },
    "papermill": {
     "duration": 0.021395,
     "end_time": "2022-10-25T06:46:17.086785",
     "exception": false,
     "start_time": "2022-10-25T06:46:17.065390",
     "status": "completed"
    },
    "tags": []
   },
   "outputs": [],
   "source": [
    "# ##################\n",
    "# ## Validation Data\n",
    "# ##################\n",
    "\n",
    "# val_path = \"../input/brats-2021-validation-data\"\n",
    "# label_path = \"../input/brats-2021-nnunet-training/setup/results/final_preds\"\n",
    "\n",
    "# id_ls = [i.split(\".\")[0] for i in os.listdir(label_path)]\n",
    "\n",
    "# val_t1 = [f\"{val_path}/{f}/{f}_t1.nii\" for f in id_ls]\n",
    "# val_t1ce = [f\"{val_path}/{f}/{f}_t1ce.nii\" for f in id_ls]\n",
    "# val_t2 = [f\"{val_path}/{f}/{f}_t2.nii\" for f in id_ls]\n",
    "# val_flair = [f\"{val_path}/{f}/{f}_flair.nii\" for f in id_ls]\n",
    "# val_seg = [f\"{label_path}/{f}.nii.gz\" for f in id_ls]\n",
    "\n",
    "# val_t1 = [os.path.join(i,os.listdir(i)[0]) for c,i in enumerate(val_t1)]\n",
    "# val_t1ce = [os.path.join(i,os.listdir(i)[0]) for c,i in enumerate(val_t1ce)]\n",
    "# val_t2 = [os.path.join(i,os.listdir(i)[0]) for c,i in enumerate(val_t2)]\n",
    "# val_flair = [os.path.join(i,os.listdir(i)[0]) for c,i in enumerate(val_flair)]\n",
    "\n",
    "# train_df = pd.DataFrame.from_dict({\n",
    "#     \"id\" : id_ls,\n",
    "#     \"BraTS21ID\" : id_ls,\n",
    "#     \"t1\" : val_t1,\n",
    "#     \"t1ce\" : val_t1ce,\n",
    "#     \"t2\" : val_t2,\n",
    "#     \"flair\" : val_flair,\n",
    "#     \"seg\" : val_seg\n",
    "# })\n",
    "# train_df.set_index(\"id\", inplace=True)\n",
    "# train_df.head()"
   ]
  },
  {
   "cell_type": "code",
   "execution_count": 7,
   "id": "3f889963",
   "metadata": {
    "execution": {
     "iopub.execute_input": "2022-10-25T06:46:17.108187Z",
     "iopub.status.busy": "2022-10-25T06:46:17.107762Z",
     "iopub.status.idle": "2022-10-25T06:46:17.113267Z",
     "shell.execute_reply": "2022-10-25T06:46:17.112060Z"
    },
    "papermill": {
     "duration": 0.018992,
     "end_time": "2022-10-25T06:46:17.115778",
     "exception": false,
     "start_time": "2022-10-25T06:46:17.096786",
     "status": "completed"
    },
    "tags": []
   },
   "outputs": [],
   "source": [
    "# for c,i in enumerate(train_seg):\n",
    "#     try:\n",
    "#         x = os.path.join(i,os.listdir(i)[0])\n",
    "#     except:\n",
    "#         rm_ls.append(id_ls[c])\n",
    "        \n",
    "# print(len(rm_ls))"
   ]
  },
  {
   "cell_type": "markdown",
   "id": "9625bf09",
   "metadata": {
    "papermill": {
     "duration": 0.009643,
     "end_time": "2022-10-25T06:46:17.135034",
     "exception": false,
     "start_time": "2022-10-25T06:46:17.125391",
     "status": "completed"
    },
    "tags": []
   },
   "source": [
    "## Image Reader"
   ]
  },
  {
   "cell_type": "code",
   "execution_count": 8,
   "id": "d9281a62",
   "metadata": {
    "execution": {
     "iopub.execute_input": "2022-10-25T06:46:17.159506Z",
     "iopub.status.busy": "2022-10-25T06:46:17.159101Z",
     "iopub.status.idle": "2022-10-25T06:46:17.174761Z",
     "shell.execute_reply": "2022-10-25T06:46:17.173489Z"
    },
    "papermill": {
     "duration": 0.030363,
     "end_time": "2022-10-25T06:46:17.177296",
     "exception": false,
     "start_time": "2022-10-25T06:46:17.146933",
     "status": "completed"
    },
    "tags": []
   },
   "outputs": [],
   "source": [
    "class ImageReader:\n",
    "    def __init__(self, img_size=256, normalize=False, single_class=False, class_ = \"multi\"):\n",
    "        pad_size = 256 if img_size > 256 else 224\n",
    "        self.resize = A.Compose(\n",
    "            [\n",
    "                A.PadIfNeeded(min_height=pad_size, min_width=pad_size, value=0),\n",
    "                A.Resize(img_size, img_size)\n",
    "            ]\n",
    "        )\n",
    "        self.normalize=normalize\n",
    "        self.single_class=single_class\n",
    "        self.class_ = class_\n",
    "        \n",
    "    def read_file(self, path) :\n",
    "        scan_type = path.split('_')[-1]\n",
    "        #scan_type = path.split(\"/\")[-2].split(\"_\")[-1]\n",
    "        raw_image = nib.load(path).get_fdata()\n",
    "        mask_path = path.replace(scan_type, 'seg.nii.gz')\n",
    "        #id_ = \"_\".join(path.split(\"/\")[-2].split(\"_\")[:2])\n",
    "        #mask_path = '../input/brats-2021-nnunet-training/setup/results/final_preds/' + id_ + '.nii.gz'\n",
    "        raw_mask = nib.load(mask_path).get_fdata()\n",
    "        processed_frames, processed_masks = [], []\n",
    "        for frame_idx in range(raw_image.shape[2]):\n",
    "            frame = raw_image[:, :, frame_idx]\n",
    "            mask = raw_mask[:, :, frame_idx]\n",
    "            if self.normalize:\n",
    "                if frame.max() > 0:\n",
    "                    frame = frame/frame.max()\n",
    "                frame = frame.astype(np.float32)\n",
    "            else:\n",
    "                frame = frame.astype(np.uint8)\n",
    "            resized = self.resize(image=frame, mask=mask)\n",
    "            processed_frames.append(resized['image'])\n",
    "            #processed_masks.append(1*(resized['mask'] > 0) if self.single_class else resized['mask'])\n",
    "            if self.class_ == \"multi\":\n",
    "                processed_masks.append(1*(resized['mask'] > 0))\n",
    "            elif self.class_ == 1:\n",
    "                processed_masks.append(1*(resized['mask'] == 1))\n",
    "            elif self.class_ == 2:\n",
    "                processed_masks.append(1*(resized['mask'] == 2))\n",
    "            else:\n",
    "                processed_masks.append(1*(resized['mask'] == 4))\n",
    "        return {\n",
    "            'scan': np.stack(processed_frames, 0),\n",
    "            'segmentation': np.stack(processed_masks, 0),\n",
    "            'orig_shape': raw_image.shape\n",
    "        }\n",
    "    \n",
    "    def load_patient_scan(self, idx, modality = 'flair') :\n",
    "        return self.read_file(train_df.loc[idx][modality])"
   ]
  },
  {
   "cell_type": "markdown",
   "id": "ca185731",
   "metadata": {
    "papermill": {
     "duration": 0.009435,
     "end_time": "2022-10-25T06:46:17.196941",
     "exception": false,
     "start_time": "2022-10-25T06:46:17.187506",
     "status": "completed"
    },
    "tags": []
   },
   "source": [
    "## Tumor viewer"
   ]
  },
  {
   "cell_type": "code",
   "execution_count": 9,
   "id": "d2043858",
   "metadata": {
    "execution": {
     "iopub.execute_input": "2022-10-25T06:46:17.219662Z",
     "iopub.status.busy": "2022-10-25T06:46:17.219281Z",
     "iopub.status.idle": "2022-10-25T06:46:17.276639Z",
     "shell.execute_reply": "2022-10-25T06:46:17.275443Z"
    },
    "papermill": {
     "duration": 0.071801,
     "end_time": "2022-10-25T06:46:17.279602",
     "exception": false,
     "start_time": "2022-10-25T06:46:17.207801",
     "status": "completed"
    },
    "tags": []
   },
   "outputs": [],
   "source": [
    "def generate_3d_scatter(\n",
    "    x:np.array, y:np.array, z:np.array, colors:np.array,\n",
    "    size:int=3, opacity:float=0.2, scale:str='Teal',\n",
    "    hover:str='skip', name:str='MRI'\n",
    ") -> go.Scatter3d:\n",
    "    return go.Scatter3d(\n",
    "        x=x, y=y, z=z,\n",
    "        mode='markers', hoverinfo=hover,\n",
    "        marker = dict(\n",
    "            size=size, opacity=opacity,\n",
    "            color=colors, colorscale=scale\n",
    "        ),\n",
    "        name=name\n",
    "    )\n",
    "\n",
    "\n",
    "class ImageViewer3d():\n",
    "    def __init__(\n",
    "        self, reader:ImageReader, mri_downsample:int=10, mri_colorscale:str='Ice'\n",
    "    ) -> None:\n",
    "        self.reader = reader\n",
    "        self.mri_downsample = mri_downsample\n",
    "        self.mri_colorscale = mri_colorscale\n",
    "\n",
    "    def load_clean_mri(self, image:np.array, orig_dim:int) -> dict:\n",
    "        shape_offset = image.shape[1]/orig_dim\n",
    "        z, x, y = (image > 0).nonzero()\n",
    "        # only (1/mri_downsample) is sampled for the resulting image\n",
    "        x, y, z = x[::self.mri_downsample], y[::self.mri_downsample], z[::self.mri_downsample]\n",
    "        colors = image[z, x, y]\n",
    "        return dict(x=x/shape_offset, y=y/shape_offset, z=z, colors=colors)\n",
    "    \n",
    "    def load_tumor_segmentation(self, image:np.array, orig_dim:int) -> dict:\n",
    "        tumors = {}\n",
    "        shape_offset = image.shape[1]/orig_dim\n",
    "        # 1/1, 1/3 and 1/5 pixels for tumor tissue classes 1(core), 2(invaded) and 4(enhancing)\n",
    "        sampling = {\n",
    "            1: 1, 2: 3, 4: 5\n",
    "        }\n",
    "        for class_idx in sampling:\n",
    "            z, x, y = (image == class_idx).nonzero()\n",
    "            x, y, z = x[::sampling[class_idx]], y[::sampling[class_idx]], z[::sampling[class_idx]]\n",
    "            tumors[class_idx] = dict(\n",
    "                x=x/shape_offset, y=y/shape_offset, z=z,\n",
    "                colors=class_idx/4\n",
    "            )\n",
    "        return tumors\n",
    "    \n",
    "    def collect_patient_data(self, scan:dict) -> tuple:\n",
    "        clean_mri = self.load_clean_mri(scan['scan'], scan['orig_shape'][0])\n",
    "        tumors = self.load_tumor_segmentation(scan['segmentation'], scan['orig_shape'][0])\n",
    "        markers_created = clean_mri['x'].shape[0] + sum(tumors[class_idx]['x'].shape[0] for class_idx in tumors)\n",
    "        return [\n",
    "            generate_3d_scatter(**clean_mri, scale=self.mri_colorscale, opacity=0.3, hover='skip', name='Brain MRI'),\n",
    "            generate_3d_scatter(**tumors[1], opacity=0.8, hover='all', name='Necrotic tumor core'),\n",
    "            generate_3d_scatter(**tumors[2], opacity=0.4, hover='all', name='Peritumoral invaded tissue'),\n",
    "            generate_3d_scatter(**tumors[4], opacity=0.4, hover='all', name='GD-enhancing tumor'),\n",
    "        ], markers_created\n",
    "    \n",
    "    def get_3d_scan(self, patient_idx:int, scan_type:str='flair') -> go.Figure:\n",
    "        scan = self.reader.load_patient_scan(patient_idx, scan_type)\n",
    "        data, num_markers = self.collect_patient_data(scan)\n",
    "        fig = go.Figure(data=data)\n",
    "        fig.update_layout(\n",
    "            title=f\"[Patient id:{patient_idx}] brain MRI scan ({num_markers} points)\",\n",
    "            legend_title=\"Pixel class (click to enable/disable)\",\n",
    "            font=dict(\n",
    "                family=\"Courier New, monospace\",\n",
    "                size=14,\n",
    "            ),\n",
    "            margin=dict(\n",
    "                l=0,r=0,b=0,t=30\n",
    "            ),\n",
    "            legend=dict(itemsizing='constant')\n",
    "        )\n",
    "        return fig"
   ]
  },
  {
   "cell_type": "markdown",
   "id": "a6296ba4",
   "metadata": {
    "papermill": {
     "duration": 0.008904,
     "end_time": "2022-10-25T06:46:17.297891",
     "exception": false,
     "start_time": "2022-10-25T06:46:17.288987",
     "status": "completed"
    },
    "tags": []
   },
   "source": [
    "## Feature Extraction"
   ]
  },
  {
   "cell_type": "code",
   "execution_count": 10,
   "id": "54d0e576",
   "metadata": {
    "execution": {
     "iopub.execute_input": "2022-10-25T06:46:17.318631Z",
     "iopub.status.busy": "2022-10-25T06:46:17.318249Z",
     "iopub.status.idle": "2022-10-25T06:46:17.324113Z",
     "shell.execute_reply": "2022-10-25T06:46:17.322854Z"
    },
    "papermill": {
     "duration": 0.019276,
     "end_time": "2022-10-25T06:46:17.326657",
     "exception": false,
     "start_time": "2022-10-25T06:46:17.307381",
     "status": "completed"
    },
    "tags": []
   },
   "outputs": [],
   "source": [
    "reader = ImageReader(img_size=128, normalize=True, single_class=False, class_=1)\n",
    "viewer = ImageViewer3d(reader, mri_downsample=25)\n",
    "\n",
    "# fig = viewer.get_3d_scan(1228, 't1')\n",
    "# plotly.offline.iplot(fig)"
   ]
  },
  {
   "cell_type": "code",
   "execution_count": 11,
   "id": "f1095a3d",
   "metadata": {
    "execution": {
     "iopub.execute_input": "2022-10-25T06:46:17.347365Z",
     "iopub.status.busy": "2022-10-25T06:46:17.346950Z",
     "iopub.status.idle": "2022-10-25T06:46:17.363350Z",
     "shell.execute_reply": "2022-10-25T06:46:17.362204Z"
    },
    "papermill": {
     "duration": 0.030247,
     "end_time": "2022-10-25T06:46:17.366118",
     "exception": false,
     "start_time": "2022-10-25T06:46:17.335871",
     "status": "completed"
    },
    "tags": []
   },
   "outputs": [],
   "source": [
    "feature_names = [\n",
    "    \"BraTS21ID\",\\\n",
    "    \"diagnostics_Mask-original_BoundingBox\", \\\n",
    "    \"diagnostics_Mask-original_CenterOfMassIndex\",\\\n",
    "    \"diagnostics_Image-original_Mean\", \\\n",
    "    \"original_shape_Elongation\",\\\n",
    "    \"original_shape_Flatness\", \\\n",
    "    \"original_shape_LeastAxisLength\",\\\n",
    "    \"original_shape_MajorAxisLength\",\\\n",
    "    \"original_shape_Maximum2DDiameterColumn\",\\\n",
    "    \"original_shape_Maximum2DDiameterRow\",\\\n",
    "    \"original_shape_Maximum2DDiameterSlice\",\\\n",
    "    \"original_shape_Maximum3DDiameter\",\\\n",
    "    \"original_shape_MeshVolume\",\\\n",
    "    \"original_shape_MinorAxisLength\",\\\n",
    "    \"original_shape_Sphericity\",\\\n",
    "    \"original_shape_SurfaceArea\",\\\n",
    "    \"original_shape_SurfaceVolumeRatio\",\\\n",
    "    \"original_firstorder_10Percentile\",\\\n",
    "    \"original_firstorder_90Percentile\",\\\n",
    "    \"original_firstorder_Energy\",\\\n",
    "#     \"original_firstorder_Entropy\",\\\n",
    "    \"original_firstorder_InterquartileRange\",\\\n",
    "    \"original_firstorder_Kurtosis\",\\\n",
    "    \"original_firstorder_Maximum\",\\\n",
    "    \"original_firstorder_MeanAbsoluteDeviation\",\\\n",
    "    \"original_firstorder_Mean\",\\\n",
    "    \"original_firstorder_Median\",\\\n",
    "    \"original_firstorder_Minimum\",\\\n",
    "    \"original_firstorder_Range\",\\\n",
    "    \"original_firstorder_RobustMeanAbsoluteDeviation\",\\\n",
    "    \"original_firstorder_RootMeanSquared\",\\\n",
    "    \"original_firstorder_Skewness\",\\\n",
    "    \"original_firstorder_TotalEnergy\",\\\n",
    "#     \"original_firstorder_Uniformity\",\\\n",
    "    \"original_firstorder_Variance\",\\\n",
    "#     \"original_glcm_Autocorrelation\",\\\n",
    "#     \"original_glcm_ClusterProminence\",\\\n",
    "#     \"original_glcm_ClusterShade\",\\\n",
    "#     \"original_glcm_ClusterTendency\",\\\n",
    "#     \"original_glcm_Contrast\",\\\n",
    "#     \"original_glcm_Correlation\",\\\n",
    "#     \"original_glcm_DifferenceAverage\",\\\n",
    "#     \"original_glcm_DifferenceEntropy\",\\\n",
    "#     \"original_glcm_DifferenceVariance\",\\\n",
    "#     \"original_glcm_Id\",\\\n",
    "#     \"original_glcm_Idm\",\\\n",
    "#     \"original_glcm_Idmn\",\\\n",
    "#     \"original_glcm_Idn\",\\\n",
    "#     \"original_glcm_Imc1\",\\\n",
    "#     \"original_glcm_Imc2\",\\\n",
    "#     \"original_glcm_InverseVariance\",\\\n",
    "#     \"original_glcm_JointAverage\",\\\n",
    "#     \"original_glcm_JointEnergy\",\\\n",
    "#     \"original_glcm_JointEntropy\",\\\n",
    "#     \"original_glcm_MCC\",\\\n",
    "#     \"original_glcm_MaximumProbability\",\\\n",
    "#     \"original_glcm_SumAverage\",\\\n",
    "#     \"original_glcm_SumEntropy\",\\\n",
    "#     \"original_glcm_SumSquares\",\\\n",
    "    \"original_gldm_DependenceEntropy\",\\\n",
    "    \"original_gldm_DependenceNonUniformity\",\\\n",
    "    \"original_gldm_DependenceNonUniformityNormalized\",\\\n",
    "    \"original_gldm_DependenceVariance\",\\\n",
    "    \"original_gldm_GrayLevelNonUniformity\",\\\n",
    "#     \"original_gldm_GrayLevelVariance\",\\\n",
    "#     \"original_gldm_HighGrayLevelEmphasis\",\\\n",
    "    \"original_gldm_LargeDependenceEmphasis\",\\\n",
    "    \"original_gldm_LargeDependenceHighGrayLevelEmphasis\",\\\n",
    "    \"original_gldm_LargeDependenceLowGrayLevelEmphasis\",\\\n",
    "#     \"original_gldm_LowGrayLevelEmphasis\",\\\n",
    "    \"original_gldm_SmallDependenceEmphasis\",\\\n",
    "    \"original_gldm_SmallDependenceHighGrayLevelEmphasis\",\\\n",
    "    \"original_gldm_SmallDependenceLowGrayLevelEmphasis\",\\\n",
    "    \"original_glrlm_GrayLevelNonUniformity\",\\\n",
    "#     \"original_glrlm_GrayLevelNonUniformityNormalized\",\\\n",
    "#     \"original_glrlm_GrayLevelVariance\",\\\n",
    "#     \"original_glrlm_HighGrayLevelRunEmphasis\",\\\n",
    "    \"original_glrlm_LongRunEmphasis\",\\\n",
    "    \"original_glrlm_LongRunHighGrayLevelEmphasis\",\\\n",
    "    \"original_glrlm_LongRunLowGrayLevelEmphasis\",\\\n",
    "#     \"original_glrlm_LowGrayLevelRunEmphasis\",\\\n",
    "    \"original_glrlm_RunEntropy\",\\\n",
    "    \"original_glrlm_RunLengthNonUniformity\",\\\n",
    "    \"original_glrlm_RunLengthNonUniformityNormalized\",\\\n",
    "    \"original_glrlm_RunPercentage\",\\\n",
    "    \"original_glrlm_RunVariance\",\\\n",
    "    \"original_glrlm_ShortRunEmphasis\",\\\n",
    "    \"original_glrlm_ShortRunHighGrayLevelEmphasis\",\\\n",
    "    \"original_glrlm_ShortRunLowGrayLevelEmphasis\",\\\n",
    "    \"original_glszm_GrayLevelNonUniformity\",\\\n",
    "#     \"original_glszm_GrayLevelNonUniformityNormalized\",\\\n",
    "#     \"original_glszm_GrayLevelVariance\",\\\n",
    "    \"original_glszm_HighGrayLevelZoneEmphasis\",\\\n",
    "    \"original_glszm_LargeAreaEmphasis\",\\\n",
    "#     \"original_glszm_LargeAreaHighGrayLevelEmphasis\",\\\n",
    "    \"original_glszm_LargeAreaLowGrayLevelEmphasis\",\\\n",
    "#     \"original_glszm_LowGrayLevelZoneEmphasis\",\\\n",
    "    \"original_glszm_SizeZoneNonUniformity\",\\\n",
    "    \"original_glszm_SizeZoneNonUniformityNormalized\",\\\n",
    "    \"original_glszm_SmallAreaEmphasis\",\\\n",
    "    \"original_glszm_SmallAreaHighGrayLevelEmphasis\",\\\n",
    "    \"original_glszm_SmallAreaLowGrayLevelEmphasis\",\\\n",
    "    \"original_glszm_ZoneEntropy\",\\\n",
    "    \"original_glszm_ZonePercentage\",\\\n",
    "    \"original_glszm_ZoneVariance\",\\\n",
    "#     \"original_ngtdm_Busyness\",\\\n",
    "#     \"original_ngtdm_Coarseness\",\\\n",
    "#     \"original_ngtdm_Complexity\",\\\n",
    "#     \"original_ngtdm_Contrast\",\\\n",
    "#     \"original_ngtdm_Strength\"\n",
    "]\n",
    "\n",
    "def get_radiomice_features(idx, reader, modality=\"flair\"):\n",
    "    data = reader.load_patient_scan(idx, modality)\n",
    "    scan = sitk.GetImageFromArray(data[\"scan\"])\n",
    "    mask = sitk.GetImageFromArray(data[\"segmentation\"])\n",
    "    features = texture_extractor.execute(scan,mask)\n",
    "    tmp_df = pd.DataFrame([features]).T\n",
    "    row = [idx]\n",
    "    col_names = [\"BraTS21ID\"]\n",
    "    \n",
    "    for col in feature_names[1:]:\n",
    "        if \"BoundingBox\" in col:\n",
    "            row.extend(list(tmp_df.loc[col][0]))\n",
    "            for j in range(6):\n",
    "                col_names.append(col+\"_\"+str(j))\n",
    "        elif \"CenterOfMassIndex\" in col:\n",
    "            row.extend(list(tmp_df.loc[col][0]))\n",
    "            for j in range(3):\n",
    "                col_names.append(col+\"_\"+str(j))\n",
    "        else:\n",
    "            row.append(tmp_df.loc[col][0])\n",
    "            col_names.append(col)\n",
    "        \n",
    "    return row, col_names"
   ]
  },
  {
   "cell_type": "code",
   "execution_count": 12,
   "id": "e6c99735",
   "metadata": {
    "_kg_hide-output": true,
    "execution": {
     "iopub.execute_input": "2022-10-25T06:46:17.387102Z",
     "iopub.status.busy": "2022-10-25T06:46:17.386608Z",
     "iopub.status.idle": "2022-10-25T06:46:27.102666Z",
     "shell.execute_reply": "2022-10-25T06:46:27.101093Z"
    },
    "papermill": {
     "duration": 9.732907,
     "end_time": "2022-10-25T06:46:27.108390",
     "exception": false,
     "start_time": "2022-10-25T06:46:17.375483",
     "status": "completed"
    },
    "scrolled": true,
    "tags": []
   },
   "outputs": [
    {
     "name": "stderr",
     "output_type": "stream",
     "text": [
      "100%|██████████| 10/10 [00:09<00:00,  1.03it/s]\n"
     ]
    }
   ],
   "source": [
    "rad_features = []\n",
    "texture_extractor = RadiomicsFeatureExtractor(verbose=False)\n",
    "for i in tqdm(id_ls[:10]):\n",
    "    try:\n",
    "        _, column_names = get_radiomice_features(i,reader)\n",
    "        #rad_features.append(features)\n",
    "    except Exception as e:\n",
    "         print(i, e)"
   ]
  },
  {
   "cell_type": "code",
   "execution_count": 13,
   "id": "6aa99c23",
   "metadata": {
    "_kg_hide-output": true,
    "execution": {
     "iopub.execute_input": "2022-10-25T06:46:27.139707Z",
     "iopub.status.busy": "2022-10-25T06:46:27.138293Z",
     "iopub.status.idle": "2022-10-25T06:46:54.696491Z",
     "shell.execute_reply": "2022-10-25T06:46:54.694978Z"
    },
    "papermill": {
     "duration": 27.573885,
     "end_time": "2022-10-25T06:46:54.699322",
     "exception": false,
     "start_time": "2022-10-25T06:46:27.125437",
     "status": "completed"
    },
    "scrolled": true,
    "tags": []
   },
   "outputs": [
    {
     "name": "stderr",
     "output_type": "stream",
     "text": [
      "100%|██████████| 2/2 [00:02<00:00,  1.03s/it]\n",
      "100%|██████████| 2/2 [00:01<00:00,  1.52it/s]\n",
      "100%|██████████| 2/2 [00:02<00:00,  1.02s/it]\n",
      "100%|██████████| 2/2 [00:01<00:00,  1.30it/s]\n",
      "100%|██████████| 2/2 [00:02<00:00,  1.01s/it]\n",
      "100%|██████████| 2/2 [00:01<00:00,  1.53it/s]\n",
      "100%|██████████| 2/2 [00:02<00:00,  1.03s/it]\n",
      "100%|██████████| 2/2 [00:01<00:00,  1.34it/s]\n",
      "100%|██████████| 2/2 [00:01<00:00,  1.02it/s]\n",
      "100%|██████████| 2/2 [00:01<00:00,  1.53it/s]\n",
      "100%|██████████| 2/2 [00:02<00:00,  1.02s/it]\n",
      "100%|██████████| 2/2 [00:01<00:00,  1.36it/s]\n",
      "100%|██████████| 2/2 [00:02<00:00,  1.02s/it]\n",
      "100%|██████████| 2/2 [00:01<00:00,  1.53it/s]\n",
      "100%|██████████| 2/2 [00:02<00:00,  1.02s/it]\n",
      "100%|██████████| 2/2 [00:01<00:00,  1.33it/s]\n"
     ]
    }
   ],
   "source": [
    "#####################\n",
    "## Feature Extraction\n",
    "#####################\n",
    "\n",
    "texture_extractor = RadiomicsFeatureExtractor(verbose=False)\n",
    "features = defaultdict(lambda : defaultdict(dict))\n",
    "\n",
    "for modality in [\"t1\", \"t2\", \"t1ce\", \"flair\"]:\n",
    "    for class_ in [\"multi\", 1, 2, 4]:\n",
    "        reader = ImageReader(img_size=128, normalize=True, single_class=False, class_=class_)\n",
    "        for i in tqdm(id_ls[:2]):\n",
    "            try:\n",
    "                tmp_features, column_names = get_radiomice_features(i,reader,modality) \n",
    "                features[modality][class_][i] = tmp_features\n",
    "            except Exception as e:\n",
    "                print(e)"
   ]
  },
  {
   "cell_type": "code",
   "execution_count": 14,
   "id": "984bc347",
   "metadata": {
    "execution": {
     "iopub.execute_input": "2022-10-25T06:46:54.730927Z",
     "iopub.status.busy": "2022-10-25T06:46:54.730503Z",
     "iopub.status.idle": "2022-10-25T06:46:54.750794Z",
     "shell.execute_reply": "2022-10-25T06:46:54.748983Z"
    },
    "papermill": {
     "duration": 0.039374,
     "end_time": "2022-10-25T06:46:54.753628",
     "exception": false,
     "start_time": "2022-10-25T06:46:54.714254",
     "status": "completed"
    },
    "tags": []
   },
   "outputs": [],
   "source": [
    "class NumpyEncoder(json.JSONEncoder):\n",
    "    def default(self, obj):\n",
    "        if isinstance(obj, np.ndarray):\n",
    "            return obj.tolist()\n",
    "        return json.JSONEncoder.default(self, obj)\n",
    "\n",
    "with open('./training_radiomics_features.json', 'w') as f:\n",
    "    json.dump(features, f, cls=NumpyEncoder)"
   ]
  },
  {
   "cell_type": "code",
   "execution_count": 15,
   "id": "b3332a04",
   "metadata": {
    "execution": {
     "iopub.execute_input": "2022-10-25T06:46:54.785342Z",
     "iopub.status.busy": "2022-10-25T06:46:54.784881Z",
     "iopub.status.idle": "2022-10-25T06:46:54.791721Z",
     "shell.execute_reply": "2022-10-25T06:46:54.790361Z"
    },
    "papermill": {
     "duration": 0.025571,
     "end_time": "2022-10-25T06:46:54.794089",
     "exception": false,
     "start_time": "2022-10-25T06:46:54.768518",
     "status": "completed"
    },
    "tags": []
   },
   "outputs": [],
   "source": [
    "with open('column_names.pkl', 'wb') as f:\n",
    "    pickle.dump(column_names, f)"
   ]
  },
  {
   "cell_type": "code",
   "execution_count": 16,
   "id": "03b1fa85",
   "metadata": {
    "execution": {
     "iopub.execute_input": "2022-10-25T06:46:54.825638Z",
     "iopub.status.busy": "2022-10-25T06:46:54.825219Z",
     "iopub.status.idle": "2022-10-25T06:46:56.750796Z",
     "shell.execute_reply": "2022-10-25T06:46:56.749655Z"
    },
    "papermill": {
     "duration": 1.944936,
     "end_time": "2022-10-25T06:46:56.753806",
     "exception": false,
     "start_time": "2022-10-25T06:46:54.808870",
     "status": "completed"
    },
    "tags": []
   },
   "outputs": [],
   "source": [
    "shutil.rmtree(\"./data\")"
   ]
  }
 ],
 "metadata": {
  "kernelspec": {
   "display_name": "Python 3",
   "language": "python",
   "name": "python3"
  },
  "language_info": {
   "codemirror_mode": {
    "name": "ipython",
    "version": 3
   },
   "file_extension": ".py",
   "mimetype": "text/x-python",
   "name": "python",
   "nbconvert_exporter": "python",
   "pygments_lexer": "ipython3",
   "version": "3.8.13"
  },
  "papermill": {
   "default_parameters": {},
   "duration": 217.60071,
   "end_time": "2022-10-25T06:46:57.995026",
   "environment_variables": {},
   "exception": null,
   "input_path": "__notebook__.ipynb",
   "output_path": "__notebook__.ipynb",
   "parameters": {},
   "start_time": "2022-10-25T06:43:20.394316",
   "version": "2.3.4"
  }
 },
 "nbformat": 4,
 "nbformat_minor": 5
}
